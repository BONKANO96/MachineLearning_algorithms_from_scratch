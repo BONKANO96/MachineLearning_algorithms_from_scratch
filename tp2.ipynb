{
 "cells": [
  {
   "cell_type": "code",
   "execution_count": 1,
   "id": "33b92c6e",
   "metadata": {},
   "outputs": [],
   "source": [
    "import numpy as np\n",
    "import pandas as pd\n",
    "from numpy import linalg as la\n",
    "from scipy.stats import mode\n",
    "from sklearn.model_selection import train_test_split\n",
    "from sklearn.model_selection import KFold\n",
    "from sklearn import metrics\n",
    "from sklearn.metrics import precision_recall_fscore_support\n",
    "from sklearn.metrics import accuracy_score, confusion_matrix\n",
    "from sklearn.naive_bayes import GaussianNB\n",
    "from statistics import mean\n",
    "import statistics\n",
    "from math import sqrt\n",
    "from math import pi\n",
    "from math import exp"
   ]
  },
  {
   "cell_type": "code",
   "execution_count": 2,
   "id": "7a5332fd",
   "metadata": {},
   "outputs": [
    {
     "name": "stdout",
     "output_type": "stream",
     "text": [
      "      Id  SepalLengthCm  SepalWidthCm  PetalLengthCm  PetalWidthCm  \\\n",
      "0      1            5.1           3.5            1.4           0.2   \n",
      "1      2            4.9           3.0            1.4           0.2   \n",
      "2      3            4.7           3.2            1.3           0.2   \n",
      "3      4            4.6           3.1            1.5           0.2   \n",
      "4      5            5.0           3.6            1.4           0.2   \n",
      "..   ...            ...           ...            ...           ...   \n",
      "145  146            6.7           3.0            5.2           2.3   \n",
      "146  147            6.3           2.5            5.0           1.9   \n",
      "147  148            6.5           3.0            5.2           2.0   \n",
      "148  149            6.2           3.4            5.4           2.3   \n",
      "149  150            5.9           3.0            5.1           1.8   \n",
      "\n",
      "            Species  \n",
      "0       Iris-setosa  \n",
      "1       Iris-setosa  \n",
      "2       Iris-setosa  \n",
      "3       Iris-setosa  \n",
      "4       Iris-setosa  \n",
      "..              ...  \n",
      "145  Iris-virginica  \n",
      "146  Iris-virginica  \n",
      "147  Iris-virginica  \n",
      "148  Iris-virginica  \n",
      "149  Iris-virginica  \n",
      "\n",
      "[150 rows x 6 columns]\n"
     ]
    }
   ],
   "source": [
    "data = pd.read_csv('Iris.csv')\n",
    "print (data)"
   ]
  },
  {
   "cell_type": "code",
   "execution_count": 3,
   "id": "66c1e94f",
   "metadata": {},
   "outputs": [
    {
     "data": {
      "text/html": [
       "<div>\n",
       "<style scoped>\n",
       "    .dataframe tbody tr th:only-of-type {\n",
       "        vertical-align: middle;\n",
       "    }\n",
       "\n",
       "    .dataframe tbody tr th {\n",
       "        vertical-align: top;\n",
       "    }\n",
       "\n",
       "    .dataframe thead th {\n",
       "        text-align: right;\n",
       "    }\n",
       "</style>\n",
       "<table border=\"1\" class=\"dataframe\">\n",
       "  <thead>\n",
       "    <tr style=\"text-align: right;\">\n",
       "      <th></th>\n",
       "      <th>Id</th>\n",
       "      <th>SepalLengthCm</th>\n",
       "      <th>SepalWidthCm</th>\n",
       "      <th>PetalLengthCm</th>\n",
       "      <th>PetalWidthCm</th>\n",
       "      <th>Species</th>\n",
       "    </tr>\n",
       "  </thead>\n",
       "  <tbody>\n",
       "    <tr>\n",
       "      <th>0</th>\n",
       "      <td>1</td>\n",
       "      <td>5.1</td>\n",
       "      <td>3.5</td>\n",
       "      <td>1.4</td>\n",
       "      <td>0.2</td>\n",
       "      <td>Iris-setosa</td>\n",
       "    </tr>\n",
       "    <tr>\n",
       "      <th>1</th>\n",
       "      <td>2</td>\n",
       "      <td>4.9</td>\n",
       "      <td>3.0</td>\n",
       "      <td>1.4</td>\n",
       "      <td>0.2</td>\n",
       "      <td>Iris-setosa</td>\n",
       "    </tr>\n",
       "    <tr>\n",
       "      <th>2</th>\n",
       "      <td>3</td>\n",
       "      <td>4.7</td>\n",
       "      <td>3.2</td>\n",
       "      <td>1.3</td>\n",
       "      <td>0.2</td>\n",
       "      <td>Iris-setosa</td>\n",
       "    </tr>\n",
       "    <tr>\n",
       "      <th>3</th>\n",
       "      <td>4</td>\n",
       "      <td>4.6</td>\n",
       "      <td>3.1</td>\n",
       "      <td>1.5</td>\n",
       "      <td>0.2</td>\n",
       "      <td>Iris-setosa</td>\n",
       "    </tr>\n",
       "    <tr>\n",
       "      <th>4</th>\n",
       "      <td>5</td>\n",
       "      <td>5.0</td>\n",
       "      <td>3.6</td>\n",
       "      <td>1.4</td>\n",
       "      <td>0.2</td>\n",
       "      <td>Iris-setosa</td>\n",
       "    </tr>\n",
       "  </tbody>\n",
       "</table>\n",
       "</div>"
      ],
      "text/plain": [
       "   Id  SepalLengthCm  SepalWidthCm  PetalLengthCm  PetalWidthCm      Species\n",
       "0   1            5.1           3.5            1.4           0.2  Iris-setosa\n",
       "1   2            4.9           3.0            1.4           0.2  Iris-setosa\n",
       "2   3            4.7           3.2            1.3           0.2  Iris-setosa\n",
       "3   4            4.6           3.1            1.5           0.2  Iris-setosa\n",
       "4   5            5.0           3.6            1.4           0.2  Iris-setosa"
      ]
     },
     "execution_count": 3,
     "metadata": {},
     "output_type": "execute_result"
    }
   ],
   "source": [
    "data.head()"
   ]
  },
  {
   "cell_type": "code",
   "execution_count": 4,
   "id": "9b2d7779",
   "metadata": {},
   "outputs": [
    {
     "name": "stdout",
     "output_type": "stream",
     "text": [
      "<class 'pandas.core.frame.DataFrame'>\n",
      "RangeIndex: 150 entries, 0 to 149\n",
      "Data columns (total 6 columns):\n",
      " #   Column         Non-Null Count  Dtype  \n",
      "---  ------         --------------  -----  \n",
      " 0   Id             150 non-null    int64  \n",
      " 1   SepalLengthCm  150 non-null    float64\n",
      " 2   SepalWidthCm   150 non-null    float64\n",
      " 3   PetalLengthCm  150 non-null    float64\n",
      " 4   PetalWidthCm   150 non-null    float64\n",
      " 5   Species        150 non-null    object \n",
      "dtypes: float64(4), int64(1), object(1)\n",
      "memory usage: 7.2+ KB\n"
     ]
    }
   ],
   "source": [
    "data.info()"
   ]
  },
  {
   "cell_type": "code",
   "execution_count": 5,
   "id": "89e6517e",
   "metadata": {},
   "outputs": [
    {
     "data": {
      "text/html": [
       "<div>\n",
       "<style scoped>\n",
       "    .dataframe tbody tr th:only-of-type {\n",
       "        vertical-align: middle;\n",
       "    }\n",
       "\n",
       "    .dataframe tbody tr th {\n",
       "        vertical-align: top;\n",
       "    }\n",
       "\n",
       "    .dataframe thead th {\n",
       "        text-align: right;\n",
       "    }\n",
       "</style>\n",
       "<table border=\"1\" class=\"dataframe\">\n",
       "  <thead>\n",
       "    <tr style=\"text-align: right;\">\n",
       "      <th></th>\n",
       "      <th>Id</th>\n",
       "      <th>SepalLengthCm</th>\n",
       "      <th>SepalWidthCm</th>\n",
       "      <th>PetalLengthCm</th>\n",
       "      <th>PetalWidthCm</th>\n",
       "    </tr>\n",
       "  </thead>\n",
       "  <tbody>\n",
       "    <tr>\n",
       "      <th>count</th>\n",
       "      <td>150.000000</td>\n",
       "      <td>150.000000</td>\n",
       "      <td>150.000000</td>\n",
       "      <td>150.000000</td>\n",
       "      <td>150.000000</td>\n",
       "    </tr>\n",
       "    <tr>\n",
       "      <th>mean</th>\n",
       "      <td>75.500000</td>\n",
       "      <td>5.843333</td>\n",
       "      <td>3.054000</td>\n",
       "      <td>3.758667</td>\n",
       "      <td>1.198667</td>\n",
       "    </tr>\n",
       "    <tr>\n",
       "      <th>std</th>\n",
       "      <td>43.445368</td>\n",
       "      <td>0.828066</td>\n",
       "      <td>0.433594</td>\n",
       "      <td>1.764420</td>\n",
       "      <td>0.763161</td>\n",
       "    </tr>\n",
       "    <tr>\n",
       "      <th>min</th>\n",
       "      <td>1.000000</td>\n",
       "      <td>4.300000</td>\n",
       "      <td>2.000000</td>\n",
       "      <td>1.000000</td>\n",
       "      <td>0.100000</td>\n",
       "    </tr>\n",
       "    <tr>\n",
       "      <th>25%</th>\n",
       "      <td>38.250000</td>\n",
       "      <td>5.100000</td>\n",
       "      <td>2.800000</td>\n",
       "      <td>1.600000</td>\n",
       "      <td>0.300000</td>\n",
       "    </tr>\n",
       "    <tr>\n",
       "      <th>50%</th>\n",
       "      <td>75.500000</td>\n",
       "      <td>5.800000</td>\n",
       "      <td>3.000000</td>\n",
       "      <td>4.350000</td>\n",
       "      <td>1.300000</td>\n",
       "    </tr>\n",
       "    <tr>\n",
       "      <th>75%</th>\n",
       "      <td>112.750000</td>\n",
       "      <td>6.400000</td>\n",
       "      <td>3.300000</td>\n",
       "      <td>5.100000</td>\n",
       "      <td>1.800000</td>\n",
       "    </tr>\n",
       "    <tr>\n",
       "      <th>max</th>\n",
       "      <td>150.000000</td>\n",
       "      <td>7.900000</td>\n",
       "      <td>4.400000</td>\n",
       "      <td>6.900000</td>\n",
       "      <td>2.500000</td>\n",
       "    </tr>\n",
       "  </tbody>\n",
       "</table>\n",
       "</div>"
      ],
      "text/plain": [
       "               Id  SepalLengthCm  SepalWidthCm  PetalLengthCm  PetalWidthCm\n",
       "count  150.000000     150.000000    150.000000     150.000000    150.000000\n",
       "mean    75.500000       5.843333      3.054000       3.758667      1.198667\n",
       "std     43.445368       0.828066      0.433594       1.764420      0.763161\n",
       "min      1.000000       4.300000      2.000000       1.000000      0.100000\n",
       "25%     38.250000       5.100000      2.800000       1.600000      0.300000\n",
       "50%     75.500000       5.800000      3.000000       4.350000      1.300000\n",
       "75%    112.750000       6.400000      3.300000       5.100000      1.800000\n",
       "max    150.000000       7.900000      4.400000       6.900000      2.500000"
      ]
     },
     "execution_count": 5,
     "metadata": {},
     "output_type": "execute_result"
    }
   ],
   "source": [
    "data.describe()"
   ]
  },
  {
   "cell_type": "code",
   "execution_count": 6,
   "id": "cf6ffcff",
   "metadata": {},
   "outputs": [
    {
     "data": {
      "text/html": [
       "<div>\n",
       "<style scoped>\n",
       "    .dataframe tbody tr th:only-of-type {\n",
       "        vertical-align: middle;\n",
       "    }\n",
       "\n",
       "    .dataframe tbody tr th {\n",
       "        vertical-align: top;\n",
       "    }\n",
       "\n",
       "    .dataframe thead th {\n",
       "        text-align: right;\n",
       "    }\n",
       "</style>\n",
       "<table border=\"1\" class=\"dataframe\">\n",
       "  <thead>\n",
       "    <tr style=\"text-align: right;\">\n",
       "      <th></th>\n",
       "      <th>SepalLengthCm</th>\n",
       "      <th>SepalWidthCm</th>\n",
       "      <th>PetalLengthCm</th>\n",
       "      <th>PetalWidthCm</th>\n",
       "      <th>Species</th>\n",
       "    </tr>\n",
       "  </thead>\n",
       "  <tbody>\n",
       "    <tr>\n",
       "      <th>0</th>\n",
       "      <td>5.1</td>\n",
       "      <td>3.5</td>\n",
       "      <td>1.4</td>\n",
       "      <td>0.2</td>\n",
       "      <td>Iris-setosa</td>\n",
       "    </tr>\n",
       "    <tr>\n",
       "      <th>1</th>\n",
       "      <td>4.9</td>\n",
       "      <td>3.0</td>\n",
       "      <td>1.4</td>\n",
       "      <td>0.2</td>\n",
       "      <td>Iris-setosa</td>\n",
       "    </tr>\n",
       "    <tr>\n",
       "      <th>2</th>\n",
       "      <td>4.7</td>\n",
       "      <td>3.2</td>\n",
       "      <td>1.3</td>\n",
       "      <td>0.2</td>\n",
       "      <td>Iris-setosa</td>\n",
       "    </tr>\n",
       "    <tr>\n",
       "      <th>3</th>\n",
       "      <td>4.6</td>\n",
       "      <td>3.1</td>\n",
       "      <td>1.5</td>\n",
       "      <td>0.2</td>\n",
       "      <td>Iris-setosa</td>\n",
       "    </tr>\n",
       "    <tr>\n",
       "      <th>4</th>\n",
       "      <td>5.0</td>\n",
       "      <td>3.6</td>\n",
       "      <td>1.4</td>\n",
       "      <td>0.2</td>\n",
       "      <td>Iris-setosa</td>\n",
       "    </tr>\n",
       "    <tr>\n",
       "      <th>...</th>\n",
       "      <td>...</td>\n",
       "      <td>...</td>\n",
       "      <td>...</td>\n",
       "      <td>...</td>\n",
       "      <td>...</td>\n",
       "    </tr>\n",
       "    <tr>\n",
       "      <th>145</th>\n",
       "      <td>6.7</td>\n",
       "      <td>3.0</td>\n",
       "      <td>5.2</td>\n",
       "      <td>2.3</td>\n",
       "      <td>Iris-virginica</td>\n",
       "    </tr>\n",
       "    <tr>\n",
       "      <th>146</th>\n",
       "      <td>6.3</td>\n",
       "      <td>2.5</td>\n",
       "      <td>5.0</td>\n",
       "      <td>1.9</td>\n",
       "      <td>Iris-virginica</td>\n",
       "    </tr>\n",
       "    <tr>\n",
       "      <th>147</th>\n",
       "      <td>6.5</td>\n",
       "      <td>3.0</td>\n",
       "      <td>5.2</td>\n",
       "      <td>2.0</td>\n",
       "      <td>Iris-virginica</td>\n",
       "    </tr>\n",
       "    <tr>\n",
       "      <th>148</th>\n",
       "      <td>6.2</td>\n",
       "      <td>3.4</td>\n",
       "      <td>5.4</td>\n",
       "      <td>2.3</td>\n",
       "      <td>Iris-virginica</td>\n",
       "    </tr>\n",
       "    <tr>\n",
       "      <th>149</th>\n",
       "      <td>5.9</td>\n",
       "      <td>3.0</td>\n",
       "      <td>5.1</td>\n",
       "      <td>1.8</td>\n",
       "      <td>Iris-virginica</td>\n",
       "    </tr>\n",
       "  </tbody>\n",
       "</table>\n",
       "<p>150 rows × 5 columns</p>\n",
       "</div>"
      ],
      "text/plain": [
       "     SepalLengthCm  SepalWidthCm  PetalLengthCm  PetalWidthCm         Species\n",
       "0              5.1           3.5            1.4           0.2     Iris-setosa\n",
       "1              4.9           3.0            1.4           0.2     Iris-setosa\n",
       "2              4.7           3.2            1.3           0.2     Iris-setosa\n",
       "3              4.6           3.1            1.5           0.2     Iris-setosa\n",
       "4              5.0           3.6            1.4           0.2     Iris-setosa\n",
       "..             ...           ...            ...           ...             ...\n",
       "145            6.7           3.0            5.2           2.3  Iris-virginica\n",
       "146            6.3           2.5            5.0           1.9  Iris-virginica\n",
       "147            6.5           3.0            5.2           2.0  Iris-virginica\n",
       "148            6.2           3.4            5.4           2.3  Iris-virginica\n",
       "149            5.9           3.0            5.1           1.8  Iris-virginica\n",
       "\n",
       "[150 rows x 5 columns]"
      ]
     },
     "execution_count": 6,
     "metadata": {},
     "output_type": "execute_result"
    }
   ],
   "source": [
    "data.drop('Id',axis=1,inplace=True)\n",
    "data"
   ]
  },
  {
   "cell_type": "code",
   "execution_count": 7,
   "id": "7afaac45",
   "metadata": {},
   "outputs": [
    {
     "data": {
      "text/html": [
       "<div>\n",
       "<style scoped>\n",
       "    .dataframe tbody tr th:only-of-type {\n",
       "        vertical-align: middle;\n",
       "    }\n",
       "\n",
       "    .dataframe tbody tr th {\n",
       "        vertical-align: top;\n",
       "    }\n",
       "\n",
       "    .dataframe thead th {\n",
       "        text-align: right;\n",
       "    }\n",
       "</style>\n",
       "<table border=\"1\" class=\"dataframe\">\n",
       "  <thead>\n",
       "    <tr style=\"text-align: right;\">\n",
       "      <th></th>\n",
       "      <th>SepalLengthCm</th>\n",
       "      <th>SepalWidthCm</th>\n",
       "      <th>PetalLengthCm</th>\n",
       "      <th>PetalWidthCm</th>\n",
       "    </tr>\n",
       "  </thead>\n",
       "  <tbody>\n",
       "    <tr>\n",
       "      <th>count</th>\n",
       "      <td>150.000000</td>\n",
       "      <td>150.000000</td>\n",
       "      <td>150.000000</td>\n",
       "      <td>150.000000</td>\n",
       "    </tr>\n",
       "    <tr>\n",
       "      <th>mean</th>\n",
       "      <td>5.843333</td>\n",
       "      <td>3.054000</td>\n",
       "      <td>3.758667</td>\n",
       "      <td>1.198667</td>\n",
       "    </tr>\n",
       "    <tr>\n",
       "      <th>std</th>\n",
       "      <td>0.828066</td>\n",
       "      <td>0.433594</td>\n",
       "      <td>1.764420</td>\n",
       "      <td>0.763161</td>\n",
       "    </tr>\n",
       "    <tr>\n",
       "      <th>min</th>\n",
       "      <td>4.300000</td>\n",
       "      <td>2.000000</td>\n",
       "      <td>1.000000</td>\n",
       "      <td>0.100000</td>\n",
       "    </tr>\n",
       "    <tr>\n",
       "      <th>25%</th>\n",
       "      <td>5.100000</td>\n",
       "      <td>2.800000</td>\n",
       "      <td>1.600000</td>\n",
       "      <td>0.300000</td>\n",
       "    </tr>\n",
       "    <tr>\n",
       "      <th>50%</th>\n",
       "      <td>5.800000</td>\n",
       "      <td>3.000000</td>\n",
       "      <td>4.350000</td>\n",
       "      <td>1.300000</td>\n",
       "    </tr>\n",
       "    <tr>\n",
       "      <th>75%</th>\n",
       "      <td>6.400000</td>\n",
       "      <td>3.300000</td>\n",
       "      <td>5.100000</td>\n",
       "      <td>1.800000</td>\n",
       "    </tr>\n",
       "    <tr>\n",
       "      <th>max</th>\n",
       "      <td>7.900000</td>\n",
       "      <td>4.400000</td>\n",
       "      <td>6.900000</td>\n",
       "      <td>2.500000</td>\n",
       "    </tr>\n",
       "  </tbody>\n",
       "</table>\n",
       "</div>"
      ],
      "text/plain": [
       "       SepalLengthCm  SepalWidthCm  PetalLengthCm  PetalWidthCm\n",
       "count     150.000000    150.000000     150.000000    150.000000\n",
       "mean        5.843333      3.054000       3.758667      1.198667\n",
       "std         0.828066      0.433594       1.764420      0.763161\n",
       "min         4.300000      2.000000       1.000000      0.100000\n",
       "25%         5.100000      2.800000       1.600000      0.300000\n",
       "50%         5.800000      3.000000       4.350000      1.300000\n",
       "75%         6.400000      3.300000       5.100000      1.800000\n",
       "max         7.900000      4.400000       6.900000      2.500000"
      ]
     },
     "execution_count": 7,
     "metadata": {},
     "output_type": "execute_result"
    }
   ],
   "source": [
    "data.describe()"
   ]
  },
  {
   "cell_type": "code",
   "execution_count": 8,
   "id": "e80159b0",
   "metadata": {},
   "outputs": [],
   "source": [
    "# division des données en inputs & labells division des données en train, test\n",
    "inputs=data.iloc[:,:-1]\n",
    "labells=data.iloc[:,-1]\n",
    "train_input,test_input,train_labells,test_labells=train_test_split(inputs,labells,test_size=0.2,random_state=0)"
   ]
  },
  {
   "cell_type": "markdown",
   "id": "3e1c5689",
   "metadata": {},
   "source": [
    "# 1. k-plus proches voisins"
   ]
  },
  {
   "cell_type": "markdown",
   "id": "d52ea72b",
   "metadata": {},
   "source": [
    "### 1.1) Implémentation de l’algorithme k-nn pour la prédiction d’une nouvelle observation"
   ]
  },
  {
   "cell_type": "code",
   "execution_count": 9,
   "id": "dbcc1af6",
   "metadata": {},
   "outputs": [],
   "source": [
    "# function to find distances based on euclidian distance\n",
    "def distance(x, xi):\n",
    "    x=np.array(x)\n",
    "    xi=np.array(xi)\n",
    "    return la.norm(x - xi)"
   ]
  },
  {
   "cell_type": "code",
   "execution_count": 10,
   "id": "49c8635c",
   "metadata": {},
   "outputs": [],
   "source": [
    "def getNeighbours(x_test, x_train, y_train, k):\n",
    "        distances=[]\n",
    "        for i in range(len(x_train)):\n",
    "            d=distance(x_train.iloc[i],x_test)\n",
    "            distances.append((d,y_train.iloc[i]))# ajout de la distance et de la classe \n",
    "        distances.sort(key=lambda x:x[0])# réorganisation des distances selon l'ordre de la 1ére colonne\n",
    "        return distances[:k]"
   ]
  },
  {
   "cell_type": "code",
   "execution_count": 11,
   "id": "9e7c7f77",
   "metadata": {},
   "outputs": [],
   "source": [
    "# algorithm\n",
    "y_predict=[]\n",
    "for i in range(len(test_input)):\n",
    "    x=test_input.iloc[i]\n",
    "    x=np.array(x)\n",
    "    nei=getNeighbours(x, train_input, train_labells, 5)\n",
    "    y_predict.append( mode( nei )[0][0])\n",
    "for i in range(len(y_predict)):\n",
    "    y_predict[i]=y_predict[i][1]"
   ]
  },
  {
   "cell_type": "code",
   "execution_count": 12,
   "id": "5a7872d3",
   "metadata": {},
   "outputs": [
    {
     "name": "stdout",
     "output_type": "stream",
     "text": [
      "['Iris-virginica', 'Iris-versicolor', 'Iris-setosa', 'Iris-virginica', 'Iris-setosa', 'Iris-virginica', 'Iris-setosa', 'Iris-versicolor', 'Iris-versicolor', 'Iris-versicolor', 'Iris-virginica', 'Iris-versicolor', 'Iris-versicolor', 'Iris-versicolor', 'Iris-virginica', 'Iris-setosa', 'Iris-versicolor', 'Iris-versicolor', 'Iris-setosa', 'Iris-setosa', 'Iris-virginica', 'Iris-versicolor', 'Iris-setosa', 'Iris-setosa', 'Iris-virginica', 'Iris-setosa', 'Iris-setosa', 'Iris-versicolor', 'Iris-versicolor', 'Iris-setosa']\n"
     ]
    }
   ],
   "source": [
    "print(y_predict)"
   ]
  },
  {
   "cell_type": "code",
   "execution_count": 13,
   "id": "c0fd9878",
   "metadata": {},
   "outputs": [
    {
     "data": {
      "text/plain": [
       "(0.9666666666666667, 0.9666666666666667, 0.9666666666666667, None)"
      ]
     },
     "execution_count": 13,
     "metadata": {},
     "output_type": "execute_result"
    }
   ],
   "source": [
    "metrics.precision_recall_fscore_support(test_labells, y_predict, average='micro')"
   ]
  },
  {
   "cell_type": "code",
   "execution_count": 14,
   "id": "6d61adad",
   "metadata": {},
   "outputs": [
    {
     "data": {
      "text/plain": [
       "0.9666666666666667"
      ]
     },
     "execution_count": 14,
     "metadata": {},
     "output_type": "execute_result"
    }
   ],
   "source": [
    "metrics.accuracy_score(test_labells, y_predict)"
   ]
  },
  {
   "cell_type": "markdown",
   "id": "3380ea20",
   "metadata": {},
   "source": [
    "### 1.2)  Evaluation des performances de l’approche des k-plus porches voisins en termes de taux de bonne classification, rappel, précision et f-mesure en se basant sur la méthode de validation croisée (10-fold cross validation)"
   ]
  },
  {
   "cell_type": "code",
   "execution_count": 15,
   "id": "8041d8f1",
   "metadata": {},
   "outputs": [],
   "source": [
    "kf = KFold( n_splits=10, shuffle=True)# shuffle = true pour une permutation des individus avant division"
   ]
  },
  {
   "cell_type": "code",
   "execution_count": 16,
   "id": "e8586767",
   "metadata": {},
   "outputs": [
    {
     "data": {
      "text/plain": [
       "10"
      ]
     },
     "execution_count": 16,
     "metadata": {},
     "output_type": "execute_result"
    }
   ],
   "source": [
    "kf.get_n_splits(data)"
   ]
  },
  {
   "cell_type": "code",
   "execution_count": 17,
   "id": "b4313d1b",
   "metadata": {},
   "outputs": [
    {
     "data": {
      "text/html": [
       "<div>\n",
       "<style scoped>\n",
       "    .dataframe tbody tr th:only-of-type {\n",
       "        vertical-align: middle;\n",
       "    }\n",
       "\n",
       "    .dataframe tbody tr th {\n",
       "        vertical-align: top;\n",
       "    }\n",
       "\n",
       "    .dataframe thead th {\n",
       "        text-align: right;\n",
       "    }\n",
       "</style>\n",
       "<table border=\"1\" class=\"dataframe\">\n",
       "  <thead>\n",
       "    <tr style=\"text-align: right;\">\n",
       "      <th></th>\n",
       "      <th>Précision</th>\n",
       "      <th>Rappel</th>\n",
       "      <th>f1</th>\n",
       "      <th>Accuracy</th>\n",
       "    </tr>\n",
       "  </thead>\n",
       "  <tbody>\n",
       "    <tr>\n",
       "      <th>0</th>\n",
       "      <td>1.000000</td>\n",
       "      <td>1.000000</td>\n",
       "      <td>1.000000</td>\n",
       "      <td>1.000000</td>\n",
       "    </tr>\n",
       "    <tr>\n",
       "      <th>1</th>\n",
       "      <td>1.000000</td>\n",
       "      <td>1.000000</td>\n",
       "      <td>1.000000</td>\n",
       "      <td>1.000000</td>\n",
       "    </tr>\n",
       "    <tr>\n",
       "      <th>2</th>\n",
       "      <td>0.916667</td>\n",
       "      <td>0.952381</td>\n",
       "      <td>0.926740</td>\n",
       "      <td>0.933333</td>\n",
       "    </tr>\n",
       "    <tr>\n",
       "      <th>3</th>\n",
       "      <td>0.958333</td>\n",
       "      <td>0.916667</td>\n",
       "      <td>0.930159</td>\n",
       "      <td>0.933333</td>\n",
       "    </tr>\n",
       "    <tr>\n",
       "      <th>4</th>\n",
       "      <td>0.916667</td>\n",
       "      <td>0.952381</td>\n",
       "      <td>0.926740</td>\n",
       "      <td>0.933333</td>\n",
       "    </tr>\n",
       "    <tr>\n",
       "      <th>5</th>\n",
       "      <td>1.000000</td>\n",
       "      <td>1.000000</td>\n",
       "      <td>1.000000</td>\n",
       "      <td>1.000000</td>\n",
       "    </tr>\n",
       "    <tr>\n",
       "      <th>6</th>\n",
       "      <td>1.000000</td>\n",
       "      <td>1.000000</td>\n",
       "      <td>1.000000</td>\n",
       "      <td>1.000000</td>\n",
       "    </tr>\n",
       "    <tr>\n",
       "      <th>7</th>\n",
       "      <td>0.833333</td>\n",
       "      <td>0.916667</td>\n",
       "      <td>0.841270</td>\n",
       "      <td>0.866667</td>\n",
       "    </tr>\n",
       "    <tr>\n",
       "      <th>8</th>\n",
       "      <td>1.000000</td>\n",
       "      <td>1.000000</td>\n",
       "      <td>1.000000</td>\n",
       "      <td>1.000000</td>\n",
       "    </tr>\n",
       "    <tr>\n",
       "      <th>9</th>\n",
       "      <td>0.944444</td>\n",
       "      <td>0.944444</td>\n",
       "      <td>0.939394</td>\n",
       "      <td>0.933333</td>\n",
       "    </tr>\n",
       "  </tbody>\n",
       "</table>\n",
       "</div>"
      ],
      "text/plain": [
       "   Précision    Rappel        f1  Accuracy\n",
       "0   1.000000  1.000000  1.000000  1.000000\n",
       "1   1.000000  1.000000  1.000000  1.000000\n",
       "2   0.916667  0.952381  0.926740  0.933333\n",
       "3   0.958333  0.916667  0.930159  0.933333\n",
       "4   0.916667  0.952381  0.926740  0.933333\n",
       "5   1.000000  1.000000  1.000000  1.000000\n",
       "6   1.000000  1.000000  1.000000  1.000000\n",
       "7   0.833333  0.916667  0.841270  0.866667\n",
       "8   1.000000  1.000000  1.000000  1.000000\n",
       "9   0.944444  0.944444  0.939394  0.933333"
      ]
     },
     "execution_count": 17,
     "metadata": {},
     "output_type": "execute_result"
    }
   ],
   "source": [
    "accuracys=[]\n",
    "matrices=[]\n",
    "metric=[]\n",
    "for train_index, test_index in kf.split(data):\n",
    "    kf_train_imputs=data.iloc[train_index,:-1]\n",
    "    kf_test_imputs=data.iloc[test_index,:-1]\n",
    "    kf_train_labells=data.iloc[train_index,-1]\n",
    "    kf_test_labells=data.iloc[test_index,-1]\n",
    "    kf_y_predict=[]\n",
    "    for i in range(len(kf_test_imputs)):\n",
    "        x=kf_test_imputs.iloc[i]\n",
    "        x=np.array(x)\n",
    "        nei=getNeighbours(x, kf_train_imputs, kf_train_labells, 5)\n",
    "        kf_y_predict.append( mode( nei )[0][0])\n",
    "    for i in range(len(kf_y_predict)):\n",
    "        kf_y_predict[i]=kf_y_predict[i][1]\n",
    "    accuracys.append(accuracy_score(kf_test_labells, kf_y_predict))\n",
    "    metric.append(precision_recall_fscore_support(kf_test_labells, kf_y_predict, average='macro'))\n",
    "    matrices.append(confusion_matrix(kf_test_labells, kf_y_predict))\n",
    "performances=pd.DataFrame(metric, columns=['Précision', 'Rappel', 'f1', 'a']).drop(columns='a')\n",
    "performances[\"Accuracy\"]=pd.DataFrame(accuracys)[0].copy()\n",
    "performances"
   ]
  },
  {
   "cell_type": "code",
   "execution_count": 18,
   "id": "29f29f23",
   "metadata": {},
   "outputs": [
    {
     "data": {
      "text/plain": [
       "0.96"
      ]
     },
     "execution_count": 18,
     "metadata": {},
     "output_type": "execute_result"
    }
   ],
   "source": [
    "mean(accuracys)"
   ]
  },
  {
   "cell_type": "code",
   "execution_count": 19,
   "id": "a5199837",
   "metadata": {},
   "outputs": [
    {
     "data": {
      "text/plain": [
       "[array([[3, 0, 0],\n",
       "        [0, 6, 0],\n",
       "        [0, 0, 6]], dtype=int64),\n",
       " array([[7, 0, 0],\n",
       "        [0, 5, 0],\n",
       "        [0, 0, 3]], dtype=int64),\n",
       " array([[5, 0, 0],\n",
       "        [0, 6, 1],\n",
       "        [0, 0, 3]], dtype=int64),\n",
       " array([[4, 0, 0],\n",
       "        [0, 3, 1],\n",
       "        [0, 0, 7]], dtype=int64),\n",
       " array([[5, 0, 0],\n",
       "        [0, 6, 1],\n",
       "        [0, 0, 3]], dtype=int64),\n",
       " array([[5, 0, 0],\n",
       "        [0, 2, 0],\n",
       "        [0, 0, 8]], dtype=int64),\n",
       " array([[8, 0, 0],\n",
       "        [0, 5, 0],\n",
       "        [0, 0, 2]], dtype=int64),\n",
       " array([[5, 0, 0],\n",
       "        [0, 2, 0],\n",
       "        [0, 2, 6]], dtype=int64),\n",
       " array([[4, 0, 0],\n",
       "        [0, 7, 0],\n",
       "        [0, 0, 4]], dtype=int64),\n",
       " array([[4, 0, 0],\n",
       "        [0, 5, 0],\n",
       "        [0, 1, 5]], dtype=int64)]"
      ]
     },
     "execution_count": 19,
     "metadata": {},
     "output_type": "execute_result"
    }
   ],
   "source": [
    "matrices"
   ]
  },
  {
   "cell_type": "markdown",
   "id": "e9f0c479",
   "metadata": {},
   "source": [
    "### 1.3)  la matrice de confusion."
   ]
  },
  {
   "cell_type": "raw",
   "id": "9491ac32",
   "metadata": {},
   "source": [
    "Ici et les questions concernant la matrice de confusion dans les autres parties à venir, sera utilisé la méthode de validation train_test_split (20% comme test set; soit 20 individus pour tester le classifieur aprés l'avoir entrainer sur 130 individus) car avec celle de k-fold on a 10 matrices de confusion qui sont visualisables dans la cellule ci-dessus."
   ]
  },
  {
   "cell_type": "code",
   "execution_count": 20,
   "id": "2ca906bc",
   "metadata": {},
   "outputs": [
    {
     "data": {
      "text/plain": [
       "array([[11,  0,  0],\n",
       "       [ 0, 12,  1],\n",
       "       [ 0,  0,  6]], dtype=int64)"
      ]
     },
     "execution_count": 20,
     "metadata": {},
     "output_type": "execute_result"
    }
   ],
   "source": [
    "confusion_matrix(test_labells, y_predict)"
   ]
  },
  {
   "cell_type": "markdown",
   "id": "2e51f62d",
   "metadata": {},
   "source": [
    "### 1.4) Analyse des résultats obtenus. "
   ]
  },
  {
   "cell_type": "markdown",
   "id": "aacd5aaf",
   "metadata": {},
   "source": [
    "On peut qualifier les résultats de bon résultats.\n",
    "Malgré que le classifieur est testé sur de nouvelles donnée à chaque fois avec des proportions des trois types de fleurs différentes d'un test set à un autre, le classifieur a montré une précision minimale de 83%. A ce niveau, vu la non équiprobbilité des individus dans le test set; il est judicieux d'evaluer les performances du classifieur selon la précision, le rappel, mais mieux le f1 score. Pour voir sa claire, il suffit de regarder l'accuracy score qui est identique à plusieurs itérations du test set alors que les trois autres ne le sont point.   "
   ]
  },
  {
   "cell_type": "markdown",
   "id": "165c0a05",
   "metadata": {},
   "source": [
    "### 1.5)  1.2 et 1.3 en utilisant la bibliothèque scikit learn"
   ]
  },
  {
   "cell_type": "code",
   "execution_count": 21,
   "id": "ecf4c919",
   "metadata": {},
   "outputs": [],
   "source": [
    "from sklearn.neighbors import KNeighborsClassifier"
   ]
  },
  {
   "cell_type": "code",
   "execution_count": 22,
   "id": "5cf0ccfc",
   "metadata": {},
   "outputs": [
    {
     "data": {
      "text/html": [
       "<div>\n",
       "<style scoped>\n",
       "    .dataframe tbody tr th:only-of-type {\n",
       "        vertical-align: middle;\n",
       "    }\n",
       "\n",
       "    .dataframe tbody tr th {\n",
       "        vertical-align: top;\n",
       "    }\n",
       "\n",
       "    .dataframe thead th {\n",
       "        text-align: right;\n",
       "    }\n",
       "</style>\n",
       "<table border=\"1\" class=\"dataframe\">\n",
       "  <thead>\n",
       "    <tr style=\"text-align: right;\">\n",
       "      <th></th>\n",
       "      <th>Précision</th>\n",
       "      <th>Rappel</th>\n",
       "      <th>f1</th>\n",
       "      <th>Accuracy</th>\n",
       "    </tr>\n",
       "  </thead>\n",
       "  <tbody>\n",
       "    <tr>\n",
       "      <th>0</th>\n",
       "      <td>1.000000</td>\n",
       "      <td>1.000000</td>\n",
       "      <td>1.000000</td>\n",
       "      <td>1.000000</td>\n",
       "    </tr>\n",
       "    <tr>\n",
       "      <th>1</th>\n",
       "      <td>0.933333</td>\n",
       "      <td>0.933333</td>\n",
       "      <td>0.933333</td>\n",
       "      <td>0.933333</td>\n",
       "    </tr>\n",
       "    <tr>\n",
       "      <th>2</th>\n",
       "      <td>0.933333</td>\n",
       "      <td>0.933333</td>\n",
       "      <td>0.933333</td>\n",
       "      <td>0.933333</td>\n",
       "    </tr>\n",
       "    <tr>\n",
       "      <th>3</th>\n",
       "      <td>0.933333</td>\n",
       "      <td>0.933333</td>\n",
       "      <td>0.933333</td>\n",
       "      <td>0.933333</td>\n",
       "    </tr>\n",
       "    <tr>\n",
       "      <th>4</th>\n",
       "      <td>1.000000</td>\n",
       "      <td>1.000000</td>\n",
       "      <td>1.000000</td>\n",
       "      <td>1.000000</td>\n",
       "    </tr>\n",
       "    <tr>\n",
       "      <th>5</th>\n",
       "      <td>0.933333</td>\n",
       "      <td>0.933333</td>\n",
       "      <td>0.933333</td>\n",
       "      <td>0.933333</td>\n",
       "    </tr>\n",
       "    <tr>\n",
       "      <th>6</th>\n",
       "      <td>1.000000</td>\n",
       "      <td>1.000000</td>\n",
       "      <td>1.000000</td>\n",
       "      <td>1.000000</td>\n",
       "    </tr>\n",
       "    <tr>\n",
       "      <th>7</th>\n",
       "      <td>1.000000</td>\n",
       "      <td>1.000000</td>\n",
       "      <td>1.000000</td>\n",
       "      <td>1.000000</td>\n",
       "    </tr>\n",
       "    <tr>\n",
       "      <th>8</th>\n",
       "      <td>0.933333</td>\n",
       "      <td>0.933333</td>\n",
       "      <td>0.933333</td>\n",
       "      <td>0.933333</td>\n",
       "    </tr>\n",
       "    <tr>\n",
       "      <th>9</th>\n",
       "      <td>0.933333</td>\n",
       "      <td>0.933333</td>\n",
       "      <td>0.933333</td>\n",
       "      <td>0.933333</td>\n",
       "    </tr>\n",
       "  </tbody>\n",
       "</table>\n",
       "</div>"
      ],
      "text/plain": [
       "   Précision    Rappel        f1  Accuracy\n",
       "0   1.000000  1.000000  1.000000  1.000000\n",
       "1   0.933333  0.933333  0.933333  0.933333\n",
       "2   0.933333  0.933333  0.933333  0.933333\n",
       "3   0.933333  0.933333  0.933333  0.933333\n",
       "4   1.000000  1.000000  1.000000  1.000000\n",
       "5   0.933333  0.933333  0.933333  0.933333\n",
       "6   1.000000  1.000000  1.000000  1.000000\n",
       "7   1.000000  1.000000  1.000000  1.000000\n",
       "8   0.933333  0.933333  0.933333  0.933333\n",
       "9   0.933333  0.933333  0.933333  0.933333"
      ]
     },
     "execution_count": 22,
     "metadata": {},
     "output_type": "execute_result"
    }
   ],
   "source": [
    "accuracys=[]\n",
    "matrices=[]\n",
    "metric=[]\n",
    "for train_index, test_index in kf.split(data):\n",
    "    kf_train_imputs=data.iloc[train_index,:-1]\n",
    "    kf_test_imputs=data.iloc[test_index,:-1]\n",
    "    kf_train_labells=data.iloc[train_index,-1]\n",
    "    kf_test_labells=data.iloc[test_index,-1]\n",
    "    knn = KNeighborsClassifier(n_neighbors=5)\n",
    "    knn.fit(kf_train_imputs,kf_train_labells)\n",
    "    kf_y_predict=knn.predict(kf_test_imputs)\n",
    "    accuracys.append(accuracy_score(kf_test_labells, kf_y_predict))\n",
    "    metric.append(precision_recall_fscore_support(kf_test_labells, kf_y_predict, average='micro'))\n",
    "    matrices.append(confusion_matrix(kf_test_labells, kf_y_predict))\n",
    "performances=pd.DataFrame(metric, columns=['Précision', 'Rappel', 'f1', 'a']).drop(columns='a')\n",
    "performances[\"Accuracy\"]=pd.DataFrame(accuracys)[0].copy()\n",
    "performances"
   ]
  },
  {
   "cell_type": "code",
   "execution_count": 23,
   "id": "fd5f1bac",
   "metadata": {},
   "outputs": [],
   "source": [
    "knn = KNeighborsClassifier(n_neighbors=5)"
   ]
  },
  {
   "cell_type": "code",
   "execution_count": 24,
   "id": "0d29b937",
   "metadata": {},
   "outputs": [
    {
     "data": {
      "text/plain": [
       "KNeighborsClassifier()"
      ]
     },
     "execution_count": 24,
     "metadata": {},
     "output_type": "execute_result"
    }
   ],
   "source": [
    "knn.fit(train_input, train_labells)# entrainement du classifieur"
   ]
  },
  {
   "cell_type": "code",
   "execution_count": 25,
   "id": "2de754f9",
   "metadata": {},
   "outputs": [],
   "source": [
    "knn_predict=knn.predict(test_input)# prediction du test set"
   ]
  },
  {
   "cell_type": "code",
   "execution_count": 26,
   "id": "593a0215",
   "metadata": {},
   "outputs": [
    {
     "data": {
      "text/plain": [
       "0.9666666666666667"
      ]
     },
     "execution_count": 26,
     "metadata": {},
     "output_type": "execute_result"
    }
   ],
   "source": [
    "metrics.accuracy_score(test_labells, knn_predict)# meme resultats que le cas précedent"
   ]
  },
  {
   "cell_type": "code",
   "execution_count": 27,
   "id": "a42aeca7",
   "metadata": {},
   "outputs": [
    {
     "data": {
      "text/plain": [
       "array([[11,  0,  0],\n",
       "       [ 0, 12,  1],\n",
       "       [ 0,  0,  6]], dtype=int64)"
      ]
     },
     "execution_count": 27,
     "metadata": {},
     "output_type": "execute_result"
    }
   ],
   "source": [
    "metrics.confusion_matrix(test_labells, knn_predict)"
   ]
  },
  {
   "cell_type": "code",
   "execution_count": 28,
   "id": "7585ef50",
   "metadata": {},
   "outputs": [
    {
     "data": {
      "text/plain": [
       "0.96"
      ]
     },
     "execution_count": 28,
     "metadata": {},
     "output_type": "execute_result"
    }
   ],
   "source": [
    "mean(accuracys)"
   ]
  },
  {
   "cell_type": "markdown",
   "id": "ff991e2b",
   "metadata": {},
   "source": [
    "### 1.6) Conclusion "
   ]
  },
  {
   "cell_type": "markdown",
   "id": "5b289b88",
   "metadata": {},
   "source": [
    "Dans les deux cas, l'accuracy score est la meme presque partout. Cependant la différence est au niveau de la précision, du rappel et du f1 score.\n",
    "En effet avec la fonction implémenter, ces trois paramétre d'évaluation sont différent entre eux et l'accuracy excepté le cas ou les individus ont tous été bien classés (accuracy_score=1.0); alors qu' avec scikit learn, les 4 paramétres restent les memes: ce qui n'est pas logique. \n",
    "On verra si la meme situation se présentera dans les parties à venir."
   ]
  },
  {
   "cell_type": "markdown",
   "id": "09ce5e6f",
   "metadata": {},
   "source": [
    "# 2. Naïve Bayes "
   ]
  },
  {
   "cell_type": "code",
   "execution_count": 29,
   "id": "25e37587",
   "metadata": {},
   "outputs": [],
   "source": [
    "from sklearn.preprocessing import LabelEncoder\n",
    "LE = LabelEncoder()\n",
    "data['Species']= LE.fit_transform(data['Species'])"
   ]
  },
  {
   "cell_type": "code",
   "execution_count": 30,
   "id": "4a3b8a61",
   "metadata": {},
   "outputs": [],
   "source": [
    "#Préparation des données pour le modéle bayesian\n",
    "train_data, test_data=train_test_split(data,test_size=0.2,random_state=0)"
   ]
  },
  {
   "cell_type": "code",
   "execution_count": 31,
   "id": "2d30a31c",
   "metadata": {},
   "outputs": [],
   "source": [
    "#séparation des labelles de teste et des entrée \n",
    "inputs_test_data=test_data.iloc[:,:-1]\n",
    "labells_test_data=test_data.iloc[:,-1]"
   ]
  },
  {
   "cell_type": "code",
   "execution_count": 32,
   "id": "e7591f56",
   "metadata": {},
   "outputs": [
    {
     "data": {
      "text/html": [
       "<div>\n",
       "<style scoped>\n",
       "    .dataframe tbody tr th:only-of-type {\n",
       "        vertical-align: middle;\n",
       "    }\n",
       "\n",
       "    .dataframe tbody tr th {\n",
       "        vertical-align: top;\n",
       "    }\n",
       "\n",
       "    .dataframe thead th {\n",
       "        text-align: right;\n",
       "    }\n",
       "</style>\n",
       "<table border=\"1\" class=\"dataframe\">\n",
       "  <thead>\n",
       "    <tr style=\"text-align: right;\">\n",
       "      <th></th>\n",
       "      <th>SepalLengthCm</th>\n",
       "      <th>SepalWidthCm</th>\n",
       "      <th>PetalLengthCm</th>\n",
       "      <th>PetalWidthCm</th>\n",
       "    </tr>\n",
       "  </thead>\n",
       "  <tbody>\n",
       "    <tr>\n",
       "      <th>114</th>\n",
       "      <td>5.8</td>\n",
       "      <td>2.8</td>\n",
       "      <td>5.1</td>\n",
       "      <td>2.4</td>\n",
       "    </tr>\n",
       "    <tr>\n",
       "      <th>62</th>\n",
       "      <td>6.0</td>\n",
       "      <td>2.2</td>\n",
       "      <td>4.0</td>\n",
       "      <td>1.0</td>\n",
       "    </tr>\n",
       "    <tr>\n",
       "      <th>33</th>\n",
       "      <td>5.5</td>\n",
       "      <td>4.2</td>\n",
       "      <td>1.4</td>\n",
       "      <td>0.2</td>\n",
       "    </tr>\n",
       "    <tr>\n",
       "      <th>107</th>\n",
       "      <td>7.3</td>\n",
       "      <td>2.9</td>\n",
       "      <td>6.3</td>\n",
       "      <td>1.8</td>\n",
       "    </tr>\n",
       "    <tr>\n",
       "      <th>7</th>\n",
       "      <td>5.0</td>\n",
       "      <td>3.4</td>\n",
       "      <td>1.5</td>\n",
       "      <td>0.2</td>\n",
       "    </tr>\n",
       "  </tbody>\n",
       "</table>\n",
       "</div>"
      ],
      "text/plain": [
       "     SepalLengthCm  SepalWidthCm  PetalLengthCm  PetalWidthCm\n",
       "114            5.8           2.8            5.1           2.4\n",
       "62             6.0           2.2            4.0           1.0\n",
       "33             5.5           4.2            1.4           0.2\n",
       "107            7.3           2.9            6.3           1.8\n",
       "7              5.0           3.4            1.5           0.2"
      ]
     },
     "execution_count": 32,
     "metadata": {},
     "output_type": "execute_result"
    }
   ],
   "source": [
    "inputs_test_data.head()"
   ]
  },
  {
   "cell_type": "code",
   "execution_count": 33,
   "id": "00c747d4",
   "metadata": {},
   "outputs": [
    {
     "data": {
      "text/plain": [
       "114    2\n",
       "62     1\n",
       "33     0\n",
       "107    2\n",
       "7      0\n",
       "Name: Species, dtype: int32"
      ]
     },
     "execution_count": 33,
     "metadata": {},
     "output_type": "execute_result"
    }
   ],
   "source": [
    "labells_test_data.head()"
   ]
  },
  {
   "cell_type": "code",
   "execution_count": 34,
   "id": "838e3fc2",
   "metadata": {},
   "outputs": [
    {
     "data": {
      "text/plain": [
       "SepalLengthCm    5.5\n",
       "SepalWidthCm     4.2\n",
       "PetalLengthCm    1.4\n",
       "PetalWidthCm     0.2\n",
       "Name: 33, dtype: float64"
      ]
     },
     "execution_count": 34,
     "metadata": {},
     "output_type": "execute_result"
    }
   ],
   "source": [
    "inputs_test_data.iloc[2]"
   ]
  },
  {
   "cell_type": "markdown",
   "id": "933c2ac0",
   "metadata": {},
   "source": [
    "### 2.1) Apprentissage du modèle"
   ]
  },
  {
   "cell_type": "code",
   "execution_count": 35,
   "id": "f3850504",
   "metadata": {},
   "outputs": [],
   "source": [
    "def separate_by_class(trainUseToTrain):\n",
    "    Iris_setosa=[]\n",
    "    Iris_virginica=[]\n",
    "    Iris_versicolor=[]\n",
    "    for i,e in enumerate(trainUseToTrain['Species']):\n",
    "        if e==0:\n",
    "            Iris_setosa.append(i)\n",
    "        elif e==1:\n",
    "            Iris_versicolor.append(i)\n",
    "        elif e==2:\n",
    "            Iris_virginica.append(i)\n",
    "    Iris_setosa=trainUseToTrain.iloc[Iris_setosa]\n",
    "    Iris_virginica=trainUseToTrain.iloc[Iris_virginica]\n",
    "    Iris_versicolor=trainUseToTrain.iloc[Iris_versicolor]\n",
    "    return Iris_setosa, Iris_versicolor, Iris_virginica "
   ]
  },
  {
   "cell_type": "code",
   "execution_count": 36,
   "id": "255cb7f9",
   "metadata": {},
   "outputs": [],
   "source": [
    "# Calculate the Gaussian probability distribution function for xi according to the variable x\n",
    "def variable_probability(xi, mean, stdev):\n",
    "    exponent = exp(-((xi-mean)**2 / (2 * stdev**2 )))\n",
    "    return (1 / (sqrt(2 * pi) * stdev)) * exponent"
   ]
  },
  {
   "cell_type": "code",
   "execution_count": 37,
   "id": "922c4ee3",
   "metadata": {},
   "outputs": [],
   "source": [
    "def statistics_parameters(dataset):\n",
    "    dataset=dataset.iloc[:,:-1]#suppréssion de la classe des individus \n",
    "    summaries = [(mean(dataset[column]), statistics.pstdev(dataset[column]), len(dataset[column])) for column in dataset]\n",
    "    return summaries"
   ]
  },
  {
   "cell_type": "code",
   "execution_count": 38,
   "id": "a7d9a79a",
   "metadata": {},
   "outputs": [],
   "source": [
    "def statistics_parameters_by_class(data_to_train):\n",
    "    parameters=dict()\n",
    "    for class_y, individus in enumerate(separate_by_class(data_to_train)):\n",
    "        parameters[class_y]=statistics_parameters(individus)\n",
    "    return parameters"
   ]
  },
  {
   "cell_type": "code",
   "execution_count": 39,
   "id": "0fe834c7",
   "metadata": {},
   "outputs": [],
   "source": [
    "def class_probabilities(parameters, individus):\n",
    "    total_individus=sum([parameters[label][0][2] for label in parameters])\n",
    "    class_probs=dict()\n",
    "    for class_id, class_param in parameters.items():\n",
    "        class_probs[class_id]=parameters[class_id][0][2]/float(total_individus)\n",
    "        for i in range(len(class_param)):\n",
    "            mean, stdev, _=class_param[i]\n",
    "            class_probs[class_id]*= variable_probability(individus[i], mean, stdev)\n",
    "    return class_probs"
   ]
  },
  {
   "cell_type": "code",
   "execution_count": 40,
   "id": "054941fb",
   "metadata": {},
   "outputs": [],
   "source": [
    "def naive_bayes(train,test):\n",
    "    param_de_position=statistics_parameters_by_class(train)\n",
    "    prediction=[]\n",
    "    for i in range(len(test)):\n",
    "        prob=class_probabilities(param_de_position,test.iloc[i])\n",
    "        prediction.append(sorted(prob.items(), key=lambda x: x[1], reverse=True)[0][0])\n",
    "    return prediction"
   ]
  },
  {
   "cell_type": "code",
   "execution_count": 41,
   "id": "7ab9053d",
   "metadata": {},
   "outputs": [],
   "source": [
    "y_predict=naive_bayes(train_data,inputs_test_data)"
   ]
  },
  {
   "cell_type": "code",
   "execution_count": 42,
   "id": "f10bab33",
   "metadata": {},
   "outputs": [
    {
     "data": {
      "text/plain": [
       "0.9666666666666667"
      ]
     },
     "execution_count": 42,
     "metadata": {},
     "output_type": "execute_result"
    }
   ],
   "source": [
    "accuracy_score(labells_test_data, y_predict)"
   ]
  },
  {
   "cell_type": "markdown",
   "id": "a4306410",
   "metadata": {},
   "source": [
    "### 2.1)  Evaluation des performances du NB en termes de taux de bonne classification, rappel, précision et f-mesure, en se basant sur la méthode de validation croisée (10-fold cross validation)."
   ]
  },
  {
   "cell_type": "code",
   "execution_count": 43,
   "id": "b96bc720",
   "metadata": {},
   "outputs": [
    {
     "data": {
      "text/html": [
       "<div>\n",
       "<style scoped>\n",
       "    .dataframe tbody tr th:only-of-type {\n",
       "        vertical-align: middle;\n",
       "    }\n",
       "\n",
       "    .dataframe tbody tr th {\n",
       "        vertical-align: top;\n",
       "    }\n",
       "\n",
       "    .dataframe thead th {\n",
       "        text-align: right;\n",
       "    }\n",
       "</style>\n",
       "<table border=\"1\" class=\"dataframe\">\n",
       "  <thead>\n",
       "    <tr style=\"text-align: right;\">\n",
       "      <th></th>\n",
       "      <th>Précision</th>\n",
       "      <th>Rappel</th>\n",
       "      <th>f1</th>\n",
       "      <th>Accuracy</th>\n",
       "    </tr>\n",
       "  </thead>\n",
       "  <tbody>\n",
       "    <tr>\n",
       "      <th>0</th>\n",
       "      <td>0.916667</td>\n",
       "      <td>0.944444</td>\n",
       "      <td>0.922078</td>\n",
       "      <td>0.933333</td>\n",
       "    </tr>\n",
       "    <tr>\n",
       "      <th>1</th>\n",
       "      <td>0.958333</td>\n",
       "      <td>0.888889</td>\n",
       "      <td>0.911111</td>\n",
       "      <td>0.933333</td>\n",
       "    </tr>\n",
       "    <tr>\n",
       "      <th>2</th>\n",
       "      <td>1.000000</td>\n",
       "      <td>1.000000</td>\n",
       "      <td>1.000000</td>\n",
       "      <td>1.000000</td>\n",
       "    </tr>\n",
       "    <tr>\n",
       "      <th>3</th>\n",
       "      <td>1.000000</td>\n",
       "      <td>1.000000</td>\n",
       "      <td>1.000000</td>\n",
       "      <td>1.000000</td>\n",
       "    </tr>\n",
       "    <tr>\n",
       "      <th>4</th>\n",
       "      <td>1.000000</td>\n",
       "      <td>1.000000</td>\n",
       "      <td>1.000000</td>\n",
       "      <td>1.000000</td>\n",
       "    </tr>\n",
       "    <tr>\n",
       "      <th>5</th>\n",
       "      <td>0.944444</td>\n",
       "      <td>0.888889</td>\n",
       "      <td>0.903030</td>\n",
       "      <td>0.933333</td>\n",
       "    </tr>\n",
       "    <tr>\n",
       "      <th>6</th>\n",
       "      <td>0.850000</td>\n",
       "      <td>0.850000</td>\n",
       "      <td>0.850000</td>\n",
       "      <td>0.866667</td>\n",
       "    </tr>\n",
       "    <tr>\n",
       "      <th>7</th>\n",
       "      <td>0.958333</td>\n",
       "      <td>0.916667</td>\n",
       "      <td>0.930159</td>\n",
       "      <td>0.933333</td>\n",
       "    </tr>\n",
       "    <tr>\n",
       "      <th>8</th>\n",
       "      <td>0.916667</td>\n",
       "      <td>0.944444</td>\n",
       "      <td>0.922078</td>\n",
       "      <td>0.933333</td>\n",
       "    </tr>\n",
       "    <tr>\n",
       "      <th>9</th>\n",
       "      <td>0.933333</td>\n",
       "      <td>0.952381</td>\n",
       "      <td>0.937322</td>\n",
       "      <td>0.933333</td>\n",
       "    </tr>\n",
       "  </tbody>\n",
       "</table>\n",
       "</div>"
      ],
      "text/plain": [
       "   Précision    Rappel        f1  Accuracy\n",
       "0   0.916667  0.944444  0.922078  0.933333\n",
       "1   0.958333  0.888889  0.911111  0.933333\n",
       "2   1.000000  1.000000  1.000000  1.000000\n",
       "3   1.000000  1.000000  1.000000  1.000000\n",
       "4   1.000000  1.000000  1.000000  1.000000\n",
       "5   0.944444  0.888889  0.903030  0.933333\n",
       "6   0.850000  0.850000  0.850000  0.866667\n",
       "7   0.958333  0.916667  0.930159  0.933333\n",
       "8   0.916667  0.944444  0.922078  0.933333\n",
       "9   0.933333  0.952381  0.937322  0.933333"
      ]
     },
     "execution_count": 43,
     "metadata": {},
     "output_type": "execute_result"
    }
   ],
   "source": [
    "accuracys=[]\n",
    "matrices=[]\n",
    "metric=[]\n",
    "for train_index, test_index in kf.split(data):\n",
    "    kf_train_imputs=data.iloc[train_index,:]\n",
    "    #séparation des labelles de teste\n",
    "    kf_test_labells=data.iloc[test_index,-1]\n",
    "    kf_test_imputs=data.iloc[test_index,:-1]\n",
    "    kf_y_predict=naive_bayes(kf_train_imputs,kf_test_imputs)\n",
    "    accuracys.append(accuracy_score(kf_test_labells, kf_y_predict))\n",
    "    metric.append(precision_recall_fscore_support(kf_test_labells, kf_y_predict, average='macro'))\n",
    "    matrices.append(confusion_matrix(kf_test_labells, kf_y_predict))\n",
    "performances=pd.DataFrame(metric, columns=['Précision', 'Rappel', 'f1', 'a']).drop(columns='a')\n",
    "performances[\"Accuracy\"]=pd.DataFrame(accuracys)[0].copy()\n",
    "performances"
   ]
  },
  {
   "cell_type": "code",
   "execution_count": 44,
   "id": "ad7bb05c",
   "metadata": {},
   "outputs": [
    {
     "data": {
      "text/plain": [
       "0.9466666666666667"
      ]
     },
     "execution_count": 44,
     "metadata": {},
     "output_type": "execute_result"
    }
   ],
   "source": [
    "mean(accuracys)"
   ]
  },
  {
   "cell_type": "code",
   "execution_count": 45,
   "id": "ce92b7e5",
   "metadata": {},
   "outputs": [
    {
     "data": {
      "text/plain": [
       "[array([[6, 0, 0],\n",
       "        [0, 3, 0],\n",
       "        [0, 1, 5]], dtype=int64),\n",
       " array([[5, 0, 0],\n",
       "        [0, 2, 1],\n",
       "        [0, 0, 7]], dtype=int64),\n",
       " array([[4, 0, 0],\n",
       "        [0, 6, 0],\n",
       "        [0, 0, 5]], dtype=int64),\n",
       " array([[5, 0, 0],\n",
       "        [0, 5, 0],\n",
       "        [0, 0, 5]], dtype=int64),\n",
       " array([[3, 0, 0],\n",
       "        [0, 8, 0],\n",
       "        [0, 0, 4]], dtype=int64),\n",
       " array([[7, 0, 0],\n",
       "        [0, 2, 1],\n",
       "        [0, 0, 5]], dtype=int64),\n",
       " array([[6, 0, 0],\n",
       "        [0, 4, 1],\n",
       "        [0, 1, 3]], dtype=int64),\n",
       " array([[4, 0, 0],\n",
       "        [0, 7, 0],\n",
       "        [0, 1, 3]], dtype=int64),\n",
       " array([[6, 0, 0],\n",
       "        [0, 5, 1],\n",
       "        [0, 0, 3]], dtype=int64),\n",
       " array([[4, 0, 0],\n",
       "        [0, 4, 0],\n",
       "        [0, 1, 6]], dtype=int64)]"
      ]
     },
     "execution_count": 45,
     "metadata": {},
     "output_type": "execute_result"
    }
   ],
   "source": [
    "matrices"
   ]
  },
  {
   "cell_type": "markdown",
   "id": "e285b48a",
   "metadata": {},
   "source": [
    "### 2.2) Donner la matrice de confusion."
   ]
  },
  {
   "cell_type": "code",
   "execution_count": 46,
   "id": "0b2775f0",
   "metadata": {},
   "outputs": [
    {
     "data": {
      "text/plain": [
       "array([[11,  0,  0],\n",
       "       [ 0, 13,  0],\n",
       "       [ 0,  1,  5]], dtype=int64)"
      ]
     },
     "execution_count": 46,
     "metadata": {},
     "output_type": "execute_result"
    }
   ],
   "source": [
    "confusion_matrix(labells_test_data, y_predict)"
   ]
  },
  {
   "cell_type": "markdown",
   "id": "1ce7df52",
   "metadata": {},
   "source": [
    "### 2.3) Analyser les résultats obtenus."
   ]
  },
  {
   "cell_type": "raw",
   "id": "9b81efde",
   "metadata": {},
   "source": [
    "La meme analyse faite précedement se repete. On remarque par exemple qu'au niveau de la 1ere, la 2e et la 3e itération l'accuracy sacore reste inchangé (0.93) et que les autres sont différents.\n",
    "\n",
    "NB: J'entends par itération le positionnement du test set dans la méthode de 10 -fold. Ainsi 1ere itération équivaut à dire qu'aprés subdivision des 10 données en 10 parties égales, la 1ere partie a eté utilisé comme donnée de test et ainsi 2éme itération équivaut à la 2e partie des 10 parties a été utilisé comme test set ..."
   ]
  },
  {
   "cell_type": "markdown",
   "id": "011c745a",
   "metadata": {},
   "source": [
    "### 2.4)  2.2 et 2.3 en utilisant la bibliothèque scikit learn existante incluant le NB"
   ]
  },
  {
   "cell_type": "code",
   "execution_count": 47,
   "id": "97bda145",
   "metadata": {},
   "outputs": [
    {
     "data": {
      "text/html": [
       "<div>\n",
       "<style scoped>\n",
       "    .dataframe tbody tr th:only-of-type {\n",
       "        vertical-align: middle;\n",
       "    }\n",
       "\n",
       "    .dataframe tbody tr th {\n",
       "        vertical-align: top;\n",
       "    }\n",
       "\n",
       "    .dataframe thead th {\n",
       "        text-align: right;\n",
       "    }\n",
       "</style>\n",
       "<table border=\"1\" class=\"dataframe\">\n",
       "  <thead>\n",
       "    <tr style=\"text-align: right;\">\n",
       "      <th></th>\n",
       "      <th>Précision</th>\n",
       "      <th>Rappel</th>\n",
       "      <th>f1</th>\n",
       "      <th>Accuracy</th>\n",
       "    </tr>\n",
       "  </thead>\n",
       "  <tbody>\n",
       "    <tr>\n",
       "      <th>0</th>\n",
       "      <td>1.000000</td>\n",
       "      <td>1.000000</td>\n",
       "      <td>1.000000</td>\n",
       "      <td>1.000000</td>\n",
       "    </tr>\n",
       "    <tr>\n",
       "      <th>1</th>\n",
       "      <td>0.916667</td>\n",
       "      <td>0.958333</td>\n",
       "      <td>0.930159</td>\n",
       "      <td>0.933333</td>\n",
       "    </tr>\n",
       "    <tr>\n",
       "      <th>2</th>\n",
       "      <td>0.933333</td>\n",
       "      <td>0.952381</td>\n",
       "      <td>0.937322</td>\n",
       "      <td>0.933333</td>\n",
       "    </tr>\n",
       "    <tr>\n",
       "      <th>3</th>\n",
       "      <td>1.000000</td>\n",
       "      <td>1.000000</td>\n",
       "      <td>1.000000</td>\n",
       "      <td>1.000000</td>\n",
       "    </tr>\n",
       "    <tr>\n",
       "      <th>4</th>\n",
       "      <td>0.793651</td>\n",
       "      <td>0.777778</td>\n",
       "      <td>0.780220</td>\n",
       "      <td>0.800000</td>\n",
       "    </tr>\n",
       "    <tr>\n",
       "      <th>5</th>\n",
       "      <td>1.000000</td>\n",
       "      <td>1.000000</td>\n",
       "      <td>1.000000</td>\n",
       "      <td>1.000000</td>\n",
       "    </tr>\n",
       "    <tr>\n",
       "      <th>6</th>\n",
       "      <td>1.000000</td>\n",
       "      <td>1.000000</td>\n",
       "      <td>1.000000</td>\n",
       "      <td>1.000000</td>\n",
       "    </tr>\n",
       "    <tr>\n",
       "      <th>7</th>\n",
       "      <td>1.000000</td>\n",
       "      <td>1.000000</td>\n",
       "      <td>1.000000</td>\n",
       "      <td>1.000000</td>\n",
       "    </tr>\n",
       "    <tr>\n",
       "      <th>8</th>\n",
       "      <td>1.000000</td>\n",
       "      <td>1.000000</td>\n",
       "      <td>1.000000</td>\n",
       "      <td>1.000000</td>\n",
       "    </tr>\n",
       "    <tr>\n",
       "      <th>9</th>\n",
       "      <td>0.866667</td>\n",
       "      <td>0.866667</td>\n",
       "      <td>0.866667</td>\n",
       "      <td>0.866667</td>\n",
       "    </tr>\n",
       "  </tbody>\n",
       "</table>\n",
       "</div>"
      ],
      "text/plain": [
       "   Précision    Rappel        f1  Accuracy\n",
       "0   1.000000  1.000000  1.000000  1.000000\n",
       "1   0.916667  0.958333  0.930159  0.933333\n",
       "2   0.933333  0.952381  0.937322  0.933333\n",
       "3   1.000000  1.000000  1.000000  1.000000\n",
       "4   0.793651  0.777778  0.780220  0.800000\n",
       "5   1.000000  1.000000  1.000000  1.000000\n",
       "6   1.000000  1.000000  1.000000  1.000000\n",
       "7   1.000000  1.000000  1.000000  1.000000\n",
       "8   1.000000  1.000000  1.000000  1.000000\n",
       "9   0.866667  0.866667  0.866667  0.866667"
      ]
     },
     "execution_count": 47,
     "metadata": {},
     "output_type": "execute_result"
    }
   ],
   "source": [
    "accuracys=[]\n",
    "matrices=[]\n",
    "metric=[]\n",
    "for train_index, test_index in kf.split(data):\n",
    "    kf_train_imputs=data.iloc[train_index,:-1]\n",
    "    kf_test_imputs=data.iloc[test_index,:-1]\n",
    "    kf_train_labells=data.iloc[train_index,-1]\n",
    "    kf_test_labells=data.iloc[test_index,-1]\n",
    "    gnb = GaussianNB()\n",
    "    kf_y_predict=gnb.fit(kf_train_imputs,kf_train_labells).predict(kf_test_imputs)\n",
    "    accuracys.append(accuracy_score(kf_test_labells, kf_y_predict))\n",
    "    metric.append(precision_recall_fscore_support(kf_test_labells, kf_y_predict, average='macro'))\n",
    "    matrices.append(confusion_matrix(kf_test_labells, kf_y_predict))\n",
    "performances=pd.DataFrame(metric, columns=['Précision', 'Rappel', 'f1', 'a']).drop(columns='a')\n",
    "performances[\"Accuracy\"]=pd.DataFrame(accuracys)[0].copy()\n",
    "performances"
   ]
  },
  {
   "cell_type": "code",
   "execution_count": 48,
   "id": "715b03f0",
   "metadata": {},
   "outputs": [
    {
     "data": {
      "text/plain": [
       "0.9533333333333334"
      ]
     },
     "execution_count": 48,
     "metadata": {},
     "output_type": "execute_result"
    }
   ],
   "source": [
    "mean(accuracys)"
   ]
  },
  {
   "cell_type": "code",
   "execution_count": 49,
   "id": "47268b7c",
   "metadata": {},
   "outputs": [
    {
     "data": {
      "text/plain": [
       "[array([[8, 0, 0],\n",
       "        [0, 6, 0],\n",
       "        [0, 0, 1]], dtype=int64),\n",
       " array([[4, 0, 0],\n",
       "        [0, 3, 0],\n",
       "        [0, 1, 7]], dtype=int64),\n",
       " array([[4, 0, 0],\n",
       "        [0, 6, 1],\n",
       "        [0, 0, 4]], dtype=int64),\n",
       " array([[9, 0, 0],\n",
       "        [0, 2, 0],\n",
       "        [0, 0, 4]], dtype=int64),\n",
       " array([[5, 0, 0],\n",
       "        [0, 5, 1],\n",
       "        [0, 2, 2]], dtype=int64),\n",
       " array([[3, 0, 0],\n",
       "        [0, 5, 0],\n",
       "        [0, 0, 7]], dtype=int64),\n",
       " array([[5, 0, 0],\n",
       "        [0, 3, 0],\n",
       "        [0, 0, 7]], dtype=int64),\n",
       " array([[2, 0, 0],\n",
       "        [0, 8, 0],\n",
       "        [0, 0, 5]], dtype=int64),\n",
       " array([[5, 0, 0],\n",
       "        [0, 5, 0],\n",
       "        [0, 0, 5]], dtype=int64),\n",
       " array([[5, 0, 0],\n",
       "        [0, 4, 1],\n",
       "        [0, 1, 4]], dtype=int64)]"
      ]
     },
     "execution_count": 49,
     "metadata": {},
     "output_type": "execute_result"
    }
   ],
   "source": [
    "matrices"
   ]
  },
  {
   "cell_type": "code",
   "execution_count": 50,
   "id": "85880e15",
   "metadata": {},
   "outputs": [],
   "source": [
    "gnb = GaussianNB()"
   ]
  },
  {
   "cell_type": "code",
   "execution_count": 51,
   "id": "ffd4d28a",
   "metadata": {},
   "outputs": [],
   "source": [
    "X_train, X_test, y_train, y_test = train_test_split(data.iloc[:,:-1],data.iloc[:,-1],test_size=0.2,random_state=0)"
   ]
  },
  {
   "cell_type": "code",
   "execution_count": 52,
   "id": "1050ccea",
   "metadata": {},
   "outputs": [],
   "source": [
    "y_pred = gnb.fit(X_train, y_train).predict(X_test)"
   ]
  },
  {
   "cell_type": "code",
   "execution_count": 53,
   "id": "bd6f4bc2",
   "metadata": {},
   "outputs": [
    {
     "data": {
      "text/plain": [
       "array([[11,  0,  0],\n",
       "       [ 0, 13,  0],\n",
       "       [ 0,  1,  5]], dtype=int64)"
      ]
     },
     "execution_count": 53,
     "metadata": {},
     "output_type": "execute_result"
    }
   ],
   "source": [
    "confusion_matrix(y_test, y_pred)"
   ]
  },
  {
   "cell_type": "code",
   "execution_count": 54,
   "id": "b2c117f9",
   "metadata": {},
   "outputs": [
    {
     "data": {
      "text/plain": [
       "0.9666666666666667"
      ]
     },
     "execution_count": 54,
     "metadata": {},
     "output_type": "execute_result"
    }
   ],
   "source": [
    "accuracy_score(y_pred, y_test)"
   ]
  },
  {
   "cell_type": "markdown",
   "id": "ab7a52b1",
   "metadata": {},
   "source": [
    "### 2.5) Conclusion"
   ]
  },
  {
   "cell_type": "raw",
   "id": "82875690",
   "metadata": {},
   "source": [
    "On remarque une diversification des paramétre d'evaluation dans les deux cas (fonction implémentée et celle de scikit learn), ce qui me raméne à me poser des questions sur la partie précédente. Cependant, il arrive que les paramétres aient le meme score meme si le taux de bonne classification n'est pas maximale (100%). A titre d'exemple on peut citer la 9eme itération où tous les 4 paramétres sont à 0.87\n",
    "    Enfin le classifieur à bien appris, ceci est évident à partir des matrices de confusion obtenu aprés le 10-fold et aussi dans le cas du train_test_split car sur les 30, une seule fleure n'a pas puit etre reconnu."
   ]
  },
  {
   "cell_type": "markdown",
   "id": "2634e7fe",
   "metadata": {},
   "source": [
    "# 3.  LDA et QDA"
   ]
  },
  {
   "cell_type": "raw",
   "id": "1dfc3b8e",
   "metadata": {},
   "source": [
    "Malgrés qu'il fallait juste modifié la fonction de distribution normale en celle de la distribution multinormale, je n'ai pas pu implémenter les algorithmes LDA et QDA. Je passe directement au fonctions existantes dans scikit learn."
   ]
  },
  {
   "cell_type": "markdown",
   "id": "6c3ebfcd",
   "metadata": {},
   "source": [
    "### 3.6) Utilisation de la bibliothèque existante scikit learn incluant le LDA et QDA pour faire 3.3.2 et 3.3.3  "
   ]
  },
  {
   "cell_type": "code",
   "execution_count": 55,
   "id": "66b19f88",
   "metadata": {},
   "outputs": [],
   "source": [
    "from sklearn.discriminant_analysis import LinearDiscriminantAnalysis as lda"
   ]
  },
  {
   "cell_type": "code",
   "execution_count": 56,
   "id": "51a4c499",
   "metadata": {},
   "outputs": [
    {
     "data": {
      "text/html": [
       "<div>\n",
       "<style scoped>\n",
       "    .dataframe tbody tr th:only-of-type {\n",
       "        vertical-align: middle;\n",
       "    }\n",
       "\n",
       "    .dataframe tbody tr th {\n",
       "        vertical-align: top;\n",
       "    }\n",
       "\n",
       "    .dataframe thead th {\n",
       "        text-align: right;\n",
       "    }\n",
       "</style>\n",
       "<table border=\"1\" class=\"dataframe\">\n",
       "  <thead>\n",
       "    <tr style=\"text-align: right;\">\n",
       "      <th></th>\n",
       "      <th>Précision</th>\n",
       "      <th>Rappel</th>\n",
       "      <th>f1</th>\n",
       "      <th>Accuracy</th>\n",
       "    </tr>\n",
       "  </thead>\n",
       "  <tbody>\n",
       "    <tr>\n",
       "      <th>0</th>\n",
       "      <td>1.000000</td>\n",
       "      <td>1.000000</td>\n",
       "      <td>1.000000</td>\n",
       "      <td>1.000000</td>\n",
       "    </tr>\n",
       "    <tr>\n",
       "      <th>1</th>\n",
       "      <td>1.000000</td>\n",
       "      <td>1.000000</td>\n",
       "      <td>1.000000</td>\n",
       "      <td>1.000000</td>\n",
       "    </tr>\n",
       "    <tr>\n",
       "      <th>2</th>\n",
       "      <td>0.933333</td>\n",
       "      <td>0.933333</td>\n",
       "      <td>0.933333</td>\n",
       "      <td>0.933333</td>\n",
       "    </tr>\n",
       "    <tr>\n",
       "      <th>3</th>\n",
       "      <td>1.000000</td>\n",
       "      <td>1.000000</td>\n",
       "      <td>1.000000</td>\n",
       "      <td>1.000000</td>\n",
       "    </tr>\n",
       "    <tr>\n",
       "      <th>4</th>\n",
       "      <td>1.000000</td>\n",
       "      <td>1.000000</td>\n",
       "      <td>1.000000</td>\n",
       "      <td>1.000000</td>\n",
       "    </tr>\n",
       "    <tr>\n",
       "      <th>5</th>\n",
       "      <td>0.933333</td>\n",
       "      <td>0.933333</td>\n",
       "      <td>0.933333</td>\n",
       "      <td>0.933333</td>\n",
       "    </tr>\n",
       "    <tr>\n",
       "      <th>6</th>\n",
       "      <td>1.000000</td>\n",
       "      <td>1.000000</td>\n",
       "      <td>1.000000</td>\n",
       "      <td>1.000000</td>\n",
       "    </tr>\n",
       "    <tr>\n",
       "      <th>7</th>\n",
       "      <td>0.933333</td>\n",
       "      <td>0.933333</td>\n",
       "      <td>0.933333</td>\n",
       "      <td>0.933333</td>\n",
       "    </tr>\n",
       "    <tr>\n",
       "      <th>8</th>\n",
       "      <td>1.000000</td>\n",
       "      <td>1.000000</td>\n",
       "      <td>1.000000</td>\n",
       "      <td>1.000000</td>\n",
       "    </tr>\n",
       "    <tr>\n",
       "      <th>9</th>\n",
       "      <td>1.000000</td>\n",
       "      <td>1.000000</td>\n",
       "      <td>1.000000</td>\n",
       "      <td>1.000000</td>\n",
       "    </tr>\n",
       "  </tbody>\n",
       "</table>\n",
       "</div>"
      ],
      "text/plain": [
       "   Précision    Rappel        f1  Accuracy\n",
       "0   1.000000  1.000000  1.000000  1.000000\n",
       "1   1.000000  1.000000  1.000000  1.000000\n",
       "2   0.933333  0.933333  0.933333  0.933333\n",
       "3   1.000000  1.000000  1.000000  1.000000\n",
       "4   1.000000  1.000000  1.000000  1.000000\n",
       "5   0.933333  0.933333  0.933333  0.933333\n",
       "6   1.000000  1.000000  1.000000  1.000000\n",
       "7   0.933333  0.933333  0.933333  0.933333\n",
       "8   1.000000  1.000000  1.000000  1.000000\n",
       "9   1.000000  1.000000  1.000000  1.000000"
      ]
     },
     "execution_count": 56,
     "metadata": {},
     "output_type": "execute_result"
    }
   ],
   "source": [
    "accuracys=[]\n",
    "matrices=[]\n",
    "metric=[]\n",
    "for train_index, test_index in kf.split(data):\n",
    "    kf_train_imputs=data.iloc[train_index,:-1]\n",
    "    kf_test_imputs=data.iloc[test_index,:-1]\n",
    "    kf_train_labells=data.iloc[train_index,-1]\n",
    "    kf_test_labells=data.iloc[test_index,-1]\n",
    "    LDA = lda()\n",
    "    LDA.fit(kf_train_imputs,kf_train_labells)\n",
    "    kf_y_predict=LDA.predict(kf_test_imputs)\n",
    "    accuracys.append(accuracy_score(kf_test_labells, kf_y_predict))\n",
    "    metric.append(precision_recall_fscore_support(kf_test_labells, kf_y_predict, average='micro'))\n",
    "    matrices.append(confusion_matrix(kf_test_labells, kf_y_predict))\n",
    "performances=pd.DataFrame(metric, columns=['Précision', 'Rappel', 'f1', 'a']).drop(columns='a')\n",
    "performances[\"Accuracy\"]=pd.DataFrame(accuracys)[0].copy()\n",
    "performances"
   ]
  },
  {
   "cell_type": "code",
   "execution_count": 76,
   "id": "dc4ce3d4",
   "metadata": {},
   "outputs": [
    {
     "data": {
      "text/plain": [
       "0.9733333333333334"
      ]
     },
     "execution_count": 76,
     "metadata": {},
     "output_type": "execute_result"
    }
   ],
   "source": [
    "mean(accuracys)"
   ]
  },
  {
   "cell_type": "code",
   "execution_count": 57,
   "id": "a1271688",
   "metadata": {},
   "outputs": [
    {
     "data": {
      "text/plain": [
       "[array([[3, 0, 0],\n",
       "        [0, 5, 0],\n",
       "        [0, 0, 7]], dtype=int64),\n",
       " array([[7, 0, 0],\n",
       "        [0, 4, 0],\n",
       "        [0, 0, 4]], dtype=int64),\n",
       " array([[7, 0, 0],\n",
       "        [0, 4, 1],\n",
       "        [0, 0, 3]], dtype=int64),\n",
       " array([[6, 0, 0],\n",
       "        [0, 6, 0],\n",
       "        [0, 0, 3]], dtype=int64),\n",
       " array([[4, 0, 0],\n",
       "        [0, 3, 0],\n",
       "        [0, 0, 8]], dtype=int64),\n",
       " array([[8, 0, 0],\n",
       "        [0, 5, 1],\n",
       "        [0, 0, 1]], dtype=int64),\n",
       " array([[5, 0, 0],\n",
       "        [0, 4, 0],\n",
       "        [0, 0, 6]], dtype=int64),\n",
       " array([[1, 0, 0],\n",
       "        [0, 5, 0],\n",
       "        [0, 1, 8]], dtype=int64),\n",
       " array([[5, 0, 0],\n",
       "        [0, 5, 0],\n",
       "        [0, 0, 5]], dtype=int64),\n",
       " array([[4, 0, 0],\n",
       "        [0, 7, 0],\n",
       "        [0, 0, 4]], dtype=int64)]"
      ]
     },
     "execution_count": 57,
     "metadata": {},
     "output_type": "execute_result"
    }
   ],
   "source": [
    "matrices"
   ]
  },
  {
   "cell_type": "code",
   "execution_count": 58,
   "id": "3417ea37",
   "metadata": {},
   "outputs": [
    {
     "data": {
      "text/plain": [
       "array([[11,  0,  0],\n",
       "       [ 0, 13,  0],\n",
       "       [ 0,  0,  6]], dtype=int64)"
      ]
     },
     "execution_count": 58,
     "metadata": {},
     "output_type": "execute_result"
    }
   ],
   "source": [
    "LDA = lda()\n",
    "LDA.fit(X_train, y_train)\n",
    "kf_y_predict=LDA.predict(X_test)\n",
    "confusion_matrix(y_test, kf_y_predict)"
   ]
  },
  {
   "cell_type": "code",
   "execution_count": 59,
   "id": "bad792f5",
   "metadata": {},
   "outputs": [
    {
     "data": {
      "text/plain": [
       "1.0"
      ]
     },
     "execution_count": 59,
     "metadata": {},
     "output_type": "execute_result"
    }
   ],
   "source": [
    "accuracy_score(y_test, kf_y_predict)"
   ]
  },
  {
   "cell_type": "code",
   "execution_count": 60,
   "id": "c5bcccf1",
   "metadata": {},
   "outputs": [],
   "source": [
    "from sklearn.discriminant_analysis import QuadraticDiscriminantAnalysis as qda"
   ]
  },
  {
   "cell_type": "code",
   "execution_count": 61,
   "id": "d5cc3b5a",
   "metadata": {},
   "outputs": [
    {
     "data": {
      "text/html": [
       "<div>\n",
       "<style scoped>\n",
       "    .dataframe tbody tr th:only-of-type {\n",
       "        vertical-align: middle;\n",
       "    }\n",
       "\n",
       "    .dataframe tbody tr th {\n",
       "        vertical-align: top;\n",
       "    }\n",
       "\n",
       "    .dataframe thead th {\n",
       "        text-align: right;\n",
       "    }\n",
       "</style>\n",
       "<table border=\"1\" class=\"dataframe\">\n",
       "  <thead>\n",
       "    <tr style=\"text-align: right;\">\n",
       "      <th></th>\n",
       "      <th>Précision</th>\n",
       "      <th>Rappel</th>\n",
       "      <th>f1</th>\n",
       "      <th>Accuracy</th>\n",
       "    </tr>\n",
       "  </thead>\n",
       "  <tbody>\n",
       "    <tr>\n",
       "      <th>0</th>\n",
       "      <td>1.000000</td>\n",
       "      <td>1.000000</td>\n",
       "      <td>1.000000</td>\n",
       "      <td>1.000000</td>\n",
       "    </tr>\n",
       "    <tr>\n",
       "      <th>1</th>\n",
       "      <td>0.933333</td>\n",
       "      <td>0.933333</td>\n",
       "      <td>0.933333</td>\n",
       "      <td>0.933333</td>\n",
       "    </tr>\n",
       "    <tr>\n",
       "      <th>2</th>\n",
       "      <td>0.933333</td>\n",
       "      <td>0.933333</td>\n",
       "      <td>0.933333</td>\n",
       "      <td>0.933333</td>\n",
       "    </tr>\n",
       "    <tr>\n",
       "      <th>3</th>\n",
       "      <td>1.000000</td>\n",
       "      <td>1.000000</td>\n",
       "      <td>1.000000</td>\n",
       "      <td>1.000000</td>\n",
       "    </tr>\n",
       "    <tr>\n",
       "      <th>4</th>\n",
       "      <td>0.933333</td>\n",
       "      <td>0.933333</td>\n",
       "      <td>0.933333</td>\n",
       "      <td>0.933333</td>\n",
       "    </tr>\n",
       "    <tr>\n",
       "      <th>5</th>\n",
       "      <td>1.000000</td>\n",
       "      <td>1.000000</td>\n",
       "      <td>1.000000</td>\n",
       "      <td>1.000000</td>\n",
       "    </tr>\n",
       "    <tr>\n",
       "      <th>6</th>\n",
       "      <td>1.000000</td>\n",
       "      <td>1.000000</td>\n",
       "      <td>1.000000</td>\n",
       "      <td>1.000000</td>\n",
       "    </tr>\n",
       "    <tr>\n",
       "      <th>7</th>\n",
       "      <td>1.000000</td>\n",
       "      <td>1.000000</td>\n",
       "      <td>1.000000</td>\n",
       "      <td>1.000000</td>\n",
       "    </tr>\n",
       "    <tr>\n",
       "      <th>8</th>\n",
       "      <td>1.000000</td>\n",
       "      <td>1.000000</td>\n",
       "      <td>1.000000</td>\n",
       "      <td>1.000000</td>\n",
       "    </tr>\n",
       "    <tr>\n",
       "      <th>9</th>\n",
       "      <td>1.000000</td>\n",
       "      <td>1.000000</td>\n",
       "      <td>1.000000</td>\n",
       "      <td>1.000000</td>\n",
       "    </tr>\n",
       "  </tbody>\n",
       "</table>\n",
       "</div>"
      ],
      "text/plain": [
       "   Précision    Rappel        f1  Accuracy\n",
       "0   1.000000  1.000000  1.000000  1.000000\n",
       "1   0.933333  0.933333  0.933333  0.933333\n",
       "2   0.933333  0.933333  0.933333  0.933333\n",
       "3   1.000000  1.000000  1.000000  1.000000\n",
       "4   0.933333  0.933333  0.933333  0.933333\n",
       "5   1.000000  1.000000  1.000000  1.000000\n",
       "6   1.000000  1.000000  1.000000  1.000000\n",
       "7   1.000000  1.000000  1.000000  1.000000\n",
       "8   1.000000  1.000000  1.000000  1.000000\n",
       "9   1.000000  1.000000  1.000000  1.000000"
      ]
     },
     "execution_count": 61,
     "metadata": {},
     "output_type": "execute_result"
    }
   ],
   "source": [
    "accuracys=[]\n",
    "matrices=[]\n",
    "metric=[]\n",
    "for train_index, test_index in kf.split(data):\n",
    "    kf_train_imputs=data.iloc[train_index,:-1]\n",
    "    kf_test_imputs=data.iloc[test_index,:-1]\n",
    "    kf_train_labells=data.iloc[train_index,-1]\n",
    "    kf_test_labells=data.iloc[test_index,-1]\n",
    "    QDA = qda()\n",
    "    QDA.fit(kf_train_imputs,kf_train_labells)\n",
    "    kf_y_predict=QDA.predict(kf_test_imputs)\n",
    "    accuracys.append(accuracy_score(kf_test_labells, kf_y_predict))\n",
    "    metric.append(precision_recall_fscore_support(kf_test_labells, kf_y_predict, average='micro'))\n",
    "    matrices.append(confusion_matrix(kf_test_labells, kf_y_predict))\n",
    "performances=pd.DataFrame(metric, columns=['Précision', 'Rappel', 'f1', 'a']).drop(columns='a')\n",
    "performances[\"Accuracy\"]=pd.DataFrame(accuracys)[0].copy()\n",
    "performances"
   ]
  },
  {
   "cell_type": "code",
   "execution_count": 62,
   "id": "248b3b5d",
   "metadata": {},
   "outputs": [
    {
     "data": {
      "text/plain": [
       "0.98"
      ]
     },
     "execution_count": 62,
     "metadata": {},
     "output_type": "execute_result"
    }
   ],
   "source": [
    "mean(accuracys)"
   ]
  },
  {
   "cell_type": "code",
   "execution_count": 63,
   "id": "8739d27f",
   "metadata": {},
   "outputs": [
    {
     "data": {
      "text/plain": [
       "[array([[8, 0, 0],\n",
       "        [0, 1, 0],\n",
       "        [0, 0, 6]], dtype=int64),\n",
       " array([[5, 0, 0],\n",
       "        [0, 5, 1],\n",
       "        [0, 0, 4]], dtype=int64),\n",
       " array([[5, 0, 0],\n",
       "        [0, 5, 0],\n",
       "        [0, 1, 4]], dtype=int64),\n",
       " array([[1, 0, 0],\n",
       "        [0, 6, 0],\n",
       "        [0, 0, 8]], dtype=int64),\n",
       " array([[7, 0, 0],\n",
       "        [0, 4, 1],\n",
       "        [0, 0, 3]], dtype=int64),\n",
       " array([[5, 0, 0],\n",
       "        [0, 6, 0],\n",
       "        [0, 0, 4]], dtype=int64),\n",
       " array([[6, 0, 0],\n",
       "        [0, 5, 0],\n",
       "        [0, 0, 4]], dtype=int64),\n",
       " array([[4, 0, 0],\n",
       "        [0, 7, 0],\n",
       "        [0, 0, 4]], dtype=int64),\n",
       " array([[2, 0, 0],\n",
       "        [0, 6, 0],\n",
       "        [0, 0, 7]], dtype=int64),\n",
       " array([[7, 0, 0],\n",
       "        [0, 3, 0],\n",
       "        [0, 0, 5]], dtype=int64)]"
      ]
     },
     "execution_count": 63,
     "metadata": {},
     "output_type": "execute_result"
    }
   ],
   "source": [
    "matrices"
   ]
  },
  {
   "cell_type": "code",
   "execution_count": 64,
   "id": "14ece561",
   "metadata": {},
   "outputs": [
    {
     "data": {
      "text/plain": [
       "array([[11,  0,  0],\n",
       "       [ 0, 13,  0],\n",
       "       [ 0,  0,  6]], dtype=int64)"
      ]
     },
     "execution_count": 64,
     "metadata": {},
     "output_type": "execute_result"
    }
   ],
   "source": [
    "QDA = qda()\n",
    "QDA.fit(X_train, y_train)\n",
    "kf_y_predict=QDA.predict(X_test)\n",
    "confusion_matrix(y_test, kf_y_predict)"
   ]
  },
  {
   "cell_type": "code",
   "execution_count": 65,
   "id": "563afeb4",
   "metadata": {},
   "outputs": [
    {
     "data": {
      "text/plain": [
       "1.0"
      ]
     },
     "execution_count": 65,
     "metadata": {},
     "output_type": "execute_result"
    }
   ],
   "source": [
    "accuracy_score(y_test, kf_y_predict)"
   ]
  },
  {
   "cell_type": "markdown",
   "id": "8f042b8b",
   "metadata": {},
   "source": [
    "### 3.7) Conclure"
   ]
  },
  {
   "cell_type": "raw",
   "id": "c5e6855d",
   "metadata": {},
   "source": [
    "Cette partie confirme la 1ere partie. Ainsi comme la premiére partie (KNN), les 4 paremetres ont la meme valeur à chaque itérations. Néammoins j'ai pas assez d'information pour faire une déduction assez fondé."
   ]
  },
  {
   "cell_type": "markdown",
   "id": "f62d0375",
   "metadata": {},
   "source": [
    "# 4. Séparateurs à Vaste Marge"
   ]
  },
  {
   "cell_type": "code",
   "execution_count": 66,
   "id": "87f2c0cf",
   "metadata": {},
   "outputs": [],
   "source": [
    "from sklearn import svm"
   ]
  },
  {
   "cell_type": "markdown",
   "id": "5b6bdcef",
   "metadata": {},
   "source": [
    "### 4.1) Proposition d'un SVM pour classifier les types de fleurs de la base Iris et évaluation de ses performances en termes de taux de bonne classification, rappel, précision et f-mesure en se basant sur la méthode de validation croisée (10-fold cross validation)"
   ]
  },
  {
   "cell_type": "code",
   "execution_count": 67,
   "id": "a273df2d",
   "metadata": {},
   "outputs": [
    {
     "data": {
      "text/html": [
       "<div>\n",
       "<style scoped>\n",
       "    .dataframe tbody tr th:only-of-type {\n",
       "        vertical-align: middle;\n",
       "    }\n",
       "\n",
       "    .dataframe tbody tr th {\n",
       "        vertical-align: top;\n",
       "    }\n",
       "\n",
       "    .dataframe thead th {\n",
       "        text-align: right;\n",
       "    }\n",
       "</style>\n",
       "<table border=\"1\" class=\"dataframe\">\n",
       "  <thead>\n",
       "    <tr style=\"text-align: right;\">\n",
       "      <th></th>\n",
       "      <th>Précision</th>\n",
       "      <th>Rappel</th>\n",
       "      <th>f1</th>\n",
       "      <th>Accuracy</th>\n",
       "    </tr>\n",
       "  </thead>\n",
       "  <tbody>\n",
       "    <tr>\n",
       "      <th>0</th>\n",
       "      <td>1.000000</td>\n",
       "      <td>1.000000</td>\n",
       "      <td>1.000000</td>\n",
       "      <td>1.000000</td>\n",
       "    </tr>\n",
       "    <tr>\n",
       "      <th>1</th>\n",
       "      <td>1.000000</td>\n",
       "      <td>1.000000</td>\n",
       "      <td>1.000000</td>\n",
       "      <td>1.000000</td>\n",
       "    </tr>\n",
       "    <tr>\n",
       "      <th>2</th>\n",
       "      <td>1.000000</td>\n",
       "      <td>1.000000</td>\n",
       "      <td>1.000000</td>\n",
       "      <td>1.000000</td>\n",
       "    </tr>\n",
       "    <tr>\n",
       "      <th>3</th>\n",
       "      <td>1.000000</td>\n",
       "      <td>1.000000</td>\n",
       "      <td>1.000000</td>\n",
       "      <td>1.000000</td>\n",
       "    </tr>\n",
       "    <tr>\n",
       "      <th>4</th>\n",
       "      <td>1.000000</td>\n",
       "      <td>1.000000</td>\n",
       "      <td>1.000000</td>\n",
       "      <td>1.000000</td>\n",
       "    </tr>\n",
       "    <tr>\n",
       "      <th>5</th>\n",
       "      <td>0.866667</td>\n",
       "      <td>0.866667</td>\n",
       "      <td>0.866667</td>\n",
       "      <td>0.866667</td>\n",
       "    </tr>\n",
       "    <tr>\n",
       "      <th>6</th>\n",
       "      <td>1.000000</td>\n",
       "      <td>1.000000</td>\n",
       "      <td>1.000000</td>\n",
       "      <td>1.000000</td>\n",
       "    </tr>\n",
       "    <tr>\n",
       "      <th>7</th>\n",
       "      <td>1.000000</td>\n",
       "      <td>1.000000</td>\n",
       "      <td>1.000000</td>\n",
       "      <td>1.000000</td>\n",
       "    </tr>\n",
       "    <tr>\n",
       "      <th>8</th>\n",
       "      <td>1.000000</td>\n",
       "      <td>1.000000</td>\n",
       "      <td>1.000000</td>\n",
       "      <td>1.000000</td>\n",
       "    </tr>\n",
       "    <tr>\n",
       "      <th>9</th>\n",
       "      <td>0.866667</td>\n",
       "      <td>0.866667</td>\n",
       "      <td>0.866667</td>\n",
       "      <td>0.866667</td>\n",
       "    </tr>\n",
       "  </tbody>\n",
       "</table>\n",
       "</div>"
      ],
      "text/plain": [
       "   Précision    Rappel        f1  Accuracy\n",
       "0   1.000000  1.000000  1.000000  1.000000\n",
       "1   1.000000  1.000000  1.000000  1.000000\n",
       "2   1.000000  1.000000  1.000000  1.000000\n",
       "3   1.000000  1.000000  1.000000  1.000000\n",
       "4   1.000000  1.000000  1.000000  1.000000\n",
       "5   0.866667  0.866667  0.866667  0.866667\n",
       "6   1.000000  1.000000  1.000000  1.000000\n",
       "7   1.000000  1.000000  1.000000  1.000000\n",
       "8   1.000000  1.000000  1.000000  1.000000\n",
       "9   0.866667  0.866667  0.866667  0.866667"
      ]
     },
     "execution_count": 67,
     "metadata": {},
     "output_type": "execute_result"
    }
   ],
   "source": [
    "accuracys=[]\n",
    "matrices=[]\n",
    "metric=[]\n",
    "for train_index, test_index in kf.split(data):\n",
    "    kf_train_imputs=data.iloc[train_index,:-1]\n",
    "    kf_test_imputs=data.iloc[test_index,:-1]\n",
    "    kf_train_labells=data.iloc[train_index,-1]\n",
    "    kf_test_labells=data.iloc[test_index,-1]\n",
    "    svc = svm.SVC(kernel='linear')\n",
    "    svc.fit(kf_train_imputs,kf_train_labells)\n",
    "    kf_y_predict=svc.predict(kf_test_imputs)\n",
    "    accuracys.append(accuracy_score(kf_test_labells, kf_y_predict))\n",
    "    metric.append(precision_recall_fscore_support(kf_test_labells, kf_y_predict, average='micro'))\n",
    "    matrices.append(confusion_matrix(kf_test_labells, kf_y_predict))\n",
    "performances=pd.DataFrame(metric, columns=['Précision', 'Rappel', 'f1', 'a']).drop(columns='a')\n",
    "performances[\"Accuracy\"]=pd.DataFrame(accuracys)[0].copy()\n",
    "performances"
   ]
  },
  {
   "cell_type": "code",
   "execution_count": 68,
   "id": "bd0ad941",
   "metadata": {},
   "outputs": [
    {
     "data": {
      "text/plain": [
       "0.9733333333333334"
      ]
     },
     "execution_count": 68,
     "metadata": {},
     "output_type": "execute_result"
    }
   ],
   "source": [
    "mean(accuracys)"
   ]
  },
  {
   "cell_type": "code",
   "execution_count": 69,
   "id": "2aa87cca",
   "metadata": {},
   "outputs": [
    {
     "data": {
      "text/plain": [
       "[array([[4, 0, 0],\n",
       "        [0, 5, 0],\n",
       "        [0, 0, 6]], dtype=int64),\n",
       " array([[6, 0, 0],\n",
       "        [0, 7, 0],\n",
       "        [0, 0, 2]], dtype=int64),\n",
       " array([[6, 0, 0],\n",
       "        [0, 4, 0],\n",
       "        [0, 0, 5]], dtype=int64),\n",
       " array([[5, 0, 0],\n",
       "        [0, 6, 0],\n",
       "        [0, 0, 4]], dtype=int64),\n",
       " array([[3, 0, 0],\n",
       "        [0, 5, 0],\n",
       "        [0, 0, 7]], dtype=int64),\n",
       " array([[7, 0, 0],\n",
       "        [0, 2, 2],\n",
       "        [0, 0, 4]], dtype=int64),\n",
       " array([[5, 0, 0],\n",
       "        [0, 3, 0],\n",
       "        [0, 0, 7]], dtype=int64),\n",
       " array([[7, 0, 0],\n",
       "        [0, 5, 0],\n",
       "        [0, 0, 3]], dtype=int64),\n",
       " array([[5, 0, 0],\n",
       "        [0, 4, 0],\n",
       "        [0, 0, 6]], dtype=int64),\n",
       " array([[2, 0, 0],\n",
       "        [0, 5, 2],\n",
       "        [0, 0, 6]], dtype=int64)]"
      ]
     },
     "execution_count": 69,
     "metadata": {},
     "output_type": "execute_result"
    }
   ],
   "source": [
    "matrices"
   ]
  },
  {
   "cell_type": "markdown",
   "id": "0e7cd695",
   "metadata": {},
   "source": [
    "### 4.2) Justification du choix des paramètres du SVM"
   ]
  },
  {
   "cell_type": "code",
   "execution_count": 70,
   "id": "b6a7ee39",
   "metadata": {},
   "outputs": [
    {
     "data": {
      "text/plain": [
       "<seaborn.axisgrid.FacetGrid at 0x22f89b55ca0>"
      ]
     },
     "execution_count": 70,
     "metadata": {},
     "output_type": "execute_result"
    },
    {
     "data": {
      "image/png": "[encoded data removed]",
      "text/plain": [
       "<Figure size 475.5x432 with 1 Axes>"
      ]
     },
     "metadata": {},
     "output_type": "display_data"
    }
   ],
   "source": [
    "import seaborn as sns\n",
    "import matplotlib.pyplot as plt \n",
    "\n",
    "sns.set_style(\"whitegrid\")\n",
    "sns.FacetGrid(data, hue =\"Species\",\n",
    "              height = 6).map(plt.scatter,\n",
    "                              'SepalLengthCm',\n",
    "                              'PetalLengthCm').add_legend()"
   ]
  },
  {
   "cell_type": "code",
   "execution_count": 71,
   "id": "4fe0e28a",
   "metadata": {},
   "outputs": [
    {
     "data": {
      "application/vnd.jupyter.widget-view+json": {
       "model_id": "b3ad20c69453401194261776cc64e9b7",
       "version_major": 2,
       "version_minor": 0
      },
      "text/plain": [
       "interactive(children=(IntSlider(value=49, description='c', min=-1), Output()), _dom_classes=('widget-interact'…"
      ]
     },
     "metadata": {},
     "output_type": "display_data"
    }
   ],
   "source": [
    "from ipywidgets import interact\n",
    "@interact(c=(-1, 100))\n",
    "def choix_param(c):\n",
    "    svc = svm.SVC(kernel='rbf',C=c)\n",
    "    svc.fit(X_train,y_train)\n",
    "    return accuracy_score(y_test, svc.predict(X_test))"
   ]
  },
  {
   "cell_type": "code",
   "execution_count": 72,
   "id": "2416fe8a",
   "metadata": {},
   "outputs": [
    {
     "data": {
      "application/vnd.jupyter.widget-view+json": {
       "model_id": "5afb6902f1844175a54c639c70741c31",
       "version_major": 2,
       "version_minor": 0
      },
      "text/plain": [
       "interactive(children=(IntSlider(value=49, description='c', min=-1), Output()), _dom_classes=('widget-interact'…"
      ]
     },
     "metadata": {},
     "output_type": "display_data"
    }
   ],
   "source": [
    "from ipywidgets import interact\n",
    "@interact(c=(-1, 100))\n",
    "def choix_param(c):\n",
    "    svc = svm.SVC(kernel='linear',C=c)\n",
    "    svc.fit(X_train,y_train)\n",
    "    return accuracy_score(y_test, svc.predict(X_test))"
   ]
  },
  {
   "cell_type": "code",
   "execution_count": 73,
   "id": "393744ac",
   "metadata": {},
   "outputs": [
    {
     "data": {
      "application/vnd.jupyter.widget-view+json": {
       "model_id": "26c8ff9fb45f42e2bbd964a895f170fd",
       "version_major": 2,
       "version_minor": 0
      },
      "text/plain": [
       "interactive(children=(IntSlider(value=49, description='c', min=-1), IntSlider(value=1, description='degre', ma…"
      ]
     },
     "metadata": {},
     "output_type": "display_data"
    }
   ],
   "source": [
    "from ipywidgets import interact\n",
    "@interact(c=(-1, 100),degre=(0,3))\n",
    "def choix_param(c, degre):\n",
    "    svc = svm.SVC(kernel='poly',C=c, degree=degre)\n",
    "    svc.fit(X_train,y_train)\n",
    "    return accuracy_score(y_test, svc.predict(X_test))"
   ]
  },
  {
   "cell_type": "raw",
   "id": "555e297e",
   "metadata": {},
   "source": [
    "Ici, le choix des paramétre n'est pas vraiment déterministe des résultats dans la mésure ou les paramétres respectent les conditions de base de l'algorthme comme le fait que C>0 et que le dégré du kernel polynomial soit supérieur à zéro. Ceci s'explique pour ma part par la distribution des données (elles sont linéairements séparables)."
   ]
  },
  {
   "cell_type": "markdown",
   "id": "3a0345da",
   "metadata": {},
   "source": [
    "### 4.3)  la matrice de confusion"
   ]
  },
  {
   "cell_type": "code",
   "execution_count": 74,
   "id": "f491daca",
   "metadata": {},
   "outputs": [
    {
     "data": {
      "text/plain": [
       "array([[11,  0,  0],\n",
       "       [ 0, 13,  0],\n",
       "       [ 0,  0,  6]], dtype=int64)"
      ]
     },
     "execution_count": 74,
     "metadata": {},
     "output_type": "execute_result"
    }
   ],
   "source": [
    "svc = svm.SVC()\n",
    "svc.fit(X_train, y_train)\n",
    "confusion_matrix(y_test, svc.predict(X_test))"
   ]
  },
  {
   "cell_type": "markdown",
   "id": "c8190216",
   "metadata": {},
   "source": [
    "### 4.4) Analyse des résultats obtenus"
   ]
  },
  {
   "cell_type": "raw",
   "id": "2f65a991",
   "metadata": {},
   "source": [
    "Les 4 paramétres sont encore une fois identique à chaque itératon."
   ]
  },
  {
   "cell_type": "markdown",
   "id": "7faeff62",
   "metadata": {},
   "source": [
    "### 4.5) Comparaisons des résultats des différentes approches précédentes (k-nn, NB, LDA, QDA et SVM)"
   ]
  },
  {
   "cell_type": "raw",
   "id": "056c8016",
   "metadata": {},
   "source": [
    "Les approches LDA, QDA et SVM maximisent l'accuracy score à 1.0 contre 0.97 pour le K-NN et le NB avec pour méthode de validation le train_test_split.\n",
    "    Cependant dans le cas du 10-fold validation; k-nn a enrégistré un score moyen de 0.97, 0.95 pour le NB, 0.98 pour LDA et 0.97 pour le SVM. \n",
    "Ainsi, avec la méthodologie de one leave out, on peut améliorer les résultats. En effet elle consiste à tester les classifieurs sur une donnée aprés entrainement sur n-1 (149 dans notre cas). "
   ]
  },
  {
   "cell_type": "markdown",
   "id": "453cb615",
   "metadata": {},
   "source": [
    "### 4.6) Proposition d'une méthodologie"
   ]
  },
  {
   "cell_type": "code",
   "execution_count": 79,
   "id": "fdb39e2e",
   "metadata": {},
   "outputs": [],
   "source": [
    "from sklearn.model_selection import LeaveOneOut"
   ]
  },
  {
   "cell_type": "code",
   "execution_count": 80,
   "id": "4f5b54b2",
   "metadata": {},
   "outputs": [
    {
     "data": {
      "text/plain": [
       "150"
      ]
     },
     "execution_count": 80,
     "metadata": {},
     "output_type": "execute_result"
    }
   ],
   "source": [
    "loo = LeaveOneOut()\n",
    "loo.get_n_splits(data)"
   ]
  },
  {
   "cell_type": "code",
   "execution_count": 81,
   "id": "0678e857",
   "metadata": {},
   "outputs": [
    {
     "data": {
      "text/html": [
       "<div>\n",
       "<style scoped>\n",
       "    .dataframe tbody tr th:only-of-type {\n",
       "        vertical-align: middle;\n",
       "    }\n",
       "\n",
       "    .dataframe tbody tr th {\n",
       "        vertical-align: top;\n",
       "    }\n",
       "\n",
       "    .dataframe thead th {\n",
       "        text-align: right;\n",
       "    }\n",
       "</style>\n",
       "<table border=\"1\" class=\"dataframe\">\n",
       "  <thead>\n",
       "    <tr style=\"text-align: right;\">\n",
       "      <th></th>\n",
       "      <th>Précision</th>\n",
       "      <th>Rappel</th>\n",
       "      <th>f1</th>\n",
       "      <th>Accuracy</th>\n",
       "    </tr>\n",
       "  </thead>\n",
       "  <tbody>\n",
       "    <tr>\n",
       "      <th>0</th>\n",
       "      <td>1.0</td>\n",
       "      <td>1.0</td>\n",
       "      <td>1.0</td>\n",
       "      <td>1.0</td>\n",
       "    </tr>\n",
       "    <tr>\n",
       "      <th>1</th>\n",
       "      <td>1.0</td>\n",
       "      <td>1.0</td>\n",
       "      <td>1.0</td>\n",
       "      <td>1.0</td>\n",
       "    </tr>\n",
       "    <tr>\n",
       "      <th>2</th>\n",
       "      <td>1.0</td>\n",
       "      <td>1.0</td>\n",
       "      <td>1.0</td>\n",
       "      <td>1.0</td>\n",
       "    </tr>\n",
       "    <tr>\n",
       "      <th>3</th>\n",
       "      <td>1.0</td>\n",
       "      <td>1.0</td>\n",
       "      <td>1.0</td>\n",
       "      <td>1.0</td>\n",
       "    </tr>\n",
       "    <tr>\n",
       "      <th>4</th>\n",
       "      <td>1.0</td>\n",
       "      <td>1.0</td>\n",
       "      <td>1.0</td>\n",
       "      <td>1.0</td>\n",
       "    </tr>\n",
       "    <tr>\n",
       "      <th>...</th>\n",
       "      <td>...</td>\n",
       "      <td>...</td>\n",
       "      <td>...</td>\n",
       "      <td>...</td>\n",
       "    </tr>\n",
       "    <tr>\n",
       "      <th>145</th>\n",
       "      <td>1.0</td>\n",
       "      <td>1.0</td>\n",
       "      <td>1.0</td>\n",
       "      <td>1.0</td>\n",
       "    </tr>\n",
       "    <tr>\n",
       "      <th>146</th>\n",
       "      <td>1.0</td>\n",
       "      <td>1.0</td>\n",
       "      <td>1.0</td>\n",
       "      <td>1.0</td>\n",
       "    </tr>\n",
       "    <tr>\n",
       "      <th>147</th>\n",
       "      <td>1.0</td>\n",
       "      <td>1.0</td>\n",
       "      <td>1.0</td>\n",
       "      <td>1.0</td>\n",
       "    </tr>\n",
       "    <tr>\n",
       "      <th>148</th>\n",
       "      <td>1.0</td>\n",
       "      <td>1.0</td>\n",
       "      <td>1.0</td>\n",
       "      <td>1.0</td>\n",
       "    </tr>\n",
       "    <tr>\n",
       "      <th>149</th>\n",
       "      <td>1.0</td>\n",
       "      <td>1.0</td>\n",
       "      <td>1.0</td>\n",
       "      <td>1.0</td>\n",
       "    </tr>\n",
       "  </tbody>\n",
       "</table>\n",
       "<p>150 rows × 4 columns</p>\n",
       "</div>"
      ],
      "text/plain": [
       "     Précision  Rappel   f1  Accuracy\n",
       "0          1.0     1.0  1.0       1.0\n",
       "1          1.0     1.0  1.0       1.0\n",
       "2          1.0     1.0  1.0       1.0\n",
       "3          1.0     1.0  1.0       1.0\n",
       "4          1.0     1.0  1.0       1.0\n",
       "..         ...     ...  ...       ...\n",
       "145        1.0     1.0  1.0       1.0\n",
       "146        1.0     1.0  1.0       1.0\n",
       "147        1.0     1.0  1.0       1.0\n",
       "148        1.0     1.0  1.0       1.0\n",
       "149        1.0     1.0  1.0       1.0\n",
       "\n",
       "[150 rows x 4 columns]"
      ]
     },
     "execution_count": 81,
     "metadata": {},
     "output_type": "execute_result"
    }
   ],
   "source": [
    "accuracys=[]\n",
    "matrices=[]\n",
    "metric=[]\n",
    "for train_index, test_index in loo.split(data):\n",
    "    kf_train_imputs=data.iloc[train_index,:-1]\n",
    "    kf_test_imputs=data.iloc[test_index,:-1]\n",
    "    kf_train_labells=data.iloc[train_index,-1]\n",
    "    kf_test_labells=data.iloc[test_index,-1]\n",
    "    svc = svm.SVC(kernel='linear')\n",
    "    svc.fit(kf_train_imputs,kf_train_labells)\n",
    "    kf_y_predict=svc.predict(kf_test_imputs)\n",
    "    accuracys.append(accuracy_score(kf_test_labells, kf_y_predict))\n",
    "    metric.append(precision_recall_fscore_support(kf_test_labells, kf_y_predict, average='micro'))\n",
    "    matrices.append(confusion_matrix(kf_test_labells, kf_y_predict))\n",
    "performances=pd.DataFrame(metric, columns=['Précision', 'Rappel', 'f1', 'a']).drop(columns='a')\n",
    "performances[\"Accuracy\"]=pd.DataFrame(accuracys)[0].copy()\n",
    "performances"
   ]
  },
  {
   "cell_type": "code",
   "execution_count": 82,
   "id": "ca78e11a",
   "metadata": {},
   "outputs": [
    {
     "data": {
      "text/plain": [
       "0.98"
      ]
     },
     "execution_count": 82,
     "metadata": {},
     "output_type": "execute_result"
    }
   ],
   "source": [
    "mean(accuracys)"
   ]
  },
  {
   "cell_type": "code",
   "execution_count": 83,
   "id": "e6c85e2f",
   "metadata": {},
   "outputs": [
    {
     "data": {
      "text/plain": [
       "[array([[1]], dtype=int64),\n",
       " array([[1]], dtype=int64),\n",
       " array([[1]], dtype=int64),\n",
       " array([[1]], dtype=int64),\n",
       " array([[1]], dtype=int64),\n",
       " array([[1]], dtype=int64),\n",
       " array([[1]], dtype=int64),\n",
       " array([[1]], dtype=int64),\n",
       " array([[1]], dtype=int64),\n",
       " array([[1]], dtype=int64),\n",
       " array([[1]], dtype=int64),\n",
       " array([[1]], dtype=int64),\n",
       " array([[1]], dtype=int64),\n",
       " array([[1]], dtype=int64),\n",
       " array([[1]], dtype=int64),\n",
       " array([[1]], dtype=int64),\n",
       " array([[1]], dtype=int64),\n",
       " array([[1]], dtype=int64),\n",
       " array([[1]], dtype=int64),\n",
       " array([[1]], dtype=int64),\n",
       " array([[1]], dtype=int64),\n",
       " array([[1]], dtype=int64),\n",
       " array([[1]], dtype=int64),\n",
       " array([[1]], dtype=int64),\n",
       " array([[1]], dtype=int64),\n",
       " array([[1]], dtype=int64),\n",
       " array([[1]], dtype=int64),\n",
       " array([[1]], dtype=int64),\n",
       " array([[1]], dtype=int64),\n",
       " array([[1]], dtype=int64),\n",
       " array([[1]], dtype=int64),\n",
       " array([[1]], dtype=int64),\n",
       " array([[1]], dtype=int64),\n",
       " array([[1]], dtype=int64),\n",
       " array([[1]], dtype=int64),\n",
       " array([[1]], dtype=int64),\n",
       " array([[1]], dtype=int64),\n",
       " array([[1]], dtype=int64),\n",
       " array([[1]], dtype=int64),\n",
       " array([[1]], dtype=int64),\n",
       " array([[1]], dtype=int64),\n",
       " array([[1]], dtype=int64),\n",
       " array([[1]], dtype=int64),\n",
       " array([[1]], dtype=int64),\n",
       " array([[1]], dtype=int64),\n",
       " array([[1]], dtype=int64),\n",
       " array([[1]], dtype=int64),\n",
       " array([[1]], dtype=int64),\n",
       " array([[1]], dtype=int64),\n",
       " array([[1]], dtype=int64),\n",
       " array([[1]], dtype=int64),\n",
       " array([[1]], dtype=int64),\n",
       " array([[1]], dtype=int64),\n",
       " array([[1]], dtype=int64),\n",
       " array([[1]], dtype=int64),\n",
       " array([[1]], dtype=int64),\n",
       " array([[1]], dtype=int64),\n",
       " array([[1]], dtype=int64),\n",
       " array([[1]], dtype=int64),\n",
       " array([[1]], dtype=int64),\n",
       " array([[1]], dtype=int64),\n",
       " array([[1]], dtype=int64),\n",
       " array([[1]], dtype=int64),\n",
       " array([[1]], dtype=int64),\n",
       " array([[1]], dtype=int64),\n",
       " array([[1]], dtype=int64),\n",
       " array([[1]], dtype=int64),\n",
       " array([[1]], dtype=int64),\n",
       " array([[1]], dtype=int64),\n",
       " array([[1]], dtype=int64),\n",
       " array([[0, 1],\n",
       "        [0, 0]], dtype=int64),\n",
       " array([[1]], dtype=int64),\n",
       " array([[0, 1],\n",
       "        [0, 0]], dtype=int64),\n",
       " array([[1]], dtype=int64),\n",
       " array([[1]], dtype=int64),\n",
       " array([[1]], dtype=int64),\n",
       " array([[1]], dtype=int64),\n",
       " array([[1]], dtype=int64),\n",
       " array([[1]], dtype=int64),\n",
       " array([[1]], dtype=int64),\n",
       " array([[1]], dtype=int64),\n",
       " array([[1]], dtype=int64),\n",
       " array([[1]], dtype=int64),\n",
       " array([[0, 1],\n",
       "        [0, 0]], dtype=int64),\n",
       " array([[1]], dtype=int64),\n",
       " array([[1]], dtype=int64),\n",
       " array([[1]], dtype=int64),\n",
       " array([[1]], dtype=int64),\n",
       " array([[1]], dtype=int64),\n",
       " array([[1]], dtype=int64),\n",
       " array([[1]], dtype=int64),\n",
       " array([[1]], dtype=int64),\n",
       " array([[1]], dtype=int64),\n",
       " array([[1]], dtype=int64),\n",
       " array([[1]], dtype=int64),\n",
       " array([[1]], dtype=int64),\n",
       " array([[1]], dtype=int64),\n",
       " array([[1]], dtype=int64),\n",
       " array([[1]], dtype=int64),\n",
       " array([[1]], dtype=int64),\n",
       " array([[1]], dtype=int64),\n",
       " array([[1]], dtype=int64),\n",
       " array([[1]], dtype=int64),\n",
       " array([[1]], dtype=int64),\n",
       " array([[1]], dtype=int64),\n",
       " array([[1]], dtype=int64),\n",
       " array([[1]], dtype=int64),\n",
       " array([[1]], dtype=int64),\n",
       " array([[1]], dtype=int64),\n",
       " array([[1]], dtype=int64),\n",
       " array([[1]], dtype=int64),\n",
       " array([[1]], dtype=int64),\n",
       " array([[1]], dtype=int64),\n",
       " array([[1]], dtype=int64),\n",
       " array([[1]], dtype=int64),\n",
       " array([[1]], dtype=int64),\n",
       " array([[1]], dtype=int64),\n",
       " array([[1]], dtype=int64),\n",
       " array([[1]], dtype=int64),\n",
       " array([[1]], dtype=int64),\n",
       " array([[1]], dtype=int64),\n",
       " array([[1]], dtype=int64),\n",
       " array([[1]], dtype=int64),\n",
       " array([[1]], dtype=int64),\n",
       " array([[1]], dtype=int64),\n",
       " array([[1]], dtype=int64),\n",
       " array([[1]], dtype=int64),\n",
       " array([[1]], dtype=int64),\n",
       " array([[1]], dtype=int64),\n",
       " array([[1]], dtype=int64),\n",
       " array([[1]], dtype=int64),\n",
       " array([[1]], dtype=int64),\n",
       " array([[1]], dtype=int64),\n",
       " array([[1]], dtype=int64),\n",
       " array([[1]], dtype=int64),\n",
       " array([[1]], dtype=int64),\n",
       " array([[1]], dtype=int64),\n",
       " array([[1]], dtype=int64),\n",
       " array([[1]], dtype=int64),\n",
       " array([[1]], dtype=int64),\n",
       " array([[1]], dtype=int64),\n",
       " array([[1]], dtype=int64),\n",
       " array([[1]], dtype=int64),\n",
       " array([[1]], dtype=int64),\n",
       " array([[1]], dtype=int64),\n",
       " array([[1]], dtype=int64),\n",
       " array([[1]], dtype=int64),\n",
       " array([[1]], dtype=int64),\n",
       " array([[1]], dtype=int64),\n",
       " array([[1]], dtype=int64)]"
      ]
     },
     "execution_count": 83,
     "metadata": {},
     "output_type": "execute_result"
    }
   ],
   "source": [
    "matrices"
   ]
  },
  {
   "cell_type": "code",
   "execution_count": null,
   "id": "40dfe9e4",
   "metadata": {},
   "outputs": [],
   "source": []
  }
 ],
 "metadata": {
  "kernelspec": {
   "display_name": "Python 3",
   "language": "python",
   "name": "python3"
  },
  "language_info": {
   "codemirror_mode": {
    "name": "ipython",
    "version": 3
   },
   "file_extension": ".py",
   "mimetype": "text/x-python",
   "name": "python",
   "nbconvert_exporter": "python",
   "pygments_lexer": "ipython3",
   "version": "3.8.8"
  }
 },
 "nbformat": 4,
 "nbformat_minor": 5
}
